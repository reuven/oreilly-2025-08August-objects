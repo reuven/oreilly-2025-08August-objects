{
 "cells": [
  {
   "cell_type": "markdown",
   "metadata": {},
   "source": [
    "# Agenda, day 2\n",
    "\n",
    "1. Recap + Q&A\n",
    "2. Magic methods\n",
    "3. Class attributes\n",
    "4. Finding attributes with ICPO\n",
    "5. Inheritance -- what it is, and how ICPO influences it\n",
    "6. Three models for method inheritance\n",
    "7. Data inheritance\n",
    "8. What next?"
   ]
  },
  {
   "cell_type": "markdown",
   "metadata": {},
   "source": [
    "# Recap\n",
    "\n",
    "How do we solve problems? Often, it's easiest if we can use a data structure that's appropriate for the problem we're trying to solve. Objects allow us to create a data structure that is specifically designed to solve our problem, or to make it easier to think about our problem. Even if it's just a wrapper around strings, lists, tuples, dicts, etc., often the fact that an object has a different name can help us to solve our problems more easily.\n",
    "\n",
    "The idea of object-oriented programming is: Create new data structures that are easier to use and think about than existing data structures.\n",
    "\n",
    "- By putting these core data structures inside of an object, we can think at a higher level -- abstraction\n",
    "- Methods (verbs) are defined on the class, which means that they are tightly bound to a particular type of data. Regular functions can be invoked with *any* type of value as an argument, although that might not be appropriate, and you can get an error. Methods are only available on the objects for which they actually exist. If you try to run a method on an object where it wasn't defined, you'll get an \"attribute error,\" meaning that the name after the `.` doesn't exist.\n",
    "- We define new \"classes,\" data structures/types. A type is a class, and a class is a type -- at least when we're talking about them. The `type` function, which tells us what class something has, can only be used there. The `class` keyword can only be used when introducing a new data structure to Python.\n",
    "- A class is also a factory for new objects of that type. If I have a `Person` class, then I can create new instances of `Person` by invoking the class, `Person()`. (Maybe I need to pass one or more arguments.) We often say that a class is a \"factory object,\" because it creates new instances.\n",
    "- The most important method in a class is `__init__` (\"dunder init\") whose job is to add new attributes to the object just after it's created, but before it's returned to the caller. `__init__` is invoked automatically by `__new__`, which we never rewrite, but which creates the new object. If you create 5 instances of `Person`, then `__init__` will be invoked 5 times, once for (and on) each instance.\n",
    "- Each time we invoke a method, the first argument is automatically set to the instance itself. If I call `a.b()`, then the method `b` will get `a` as its first argument. However, the parameter into which `a` will be assigned is always called `self`. That parameter is automatically populated, but it is important.\n",
    "- The whole idea of `self` is that it refers to the current instance. Other languages often have a special name, often `this`, which refers to the current object. Python is unusual in that `self` is a local variable, a parameter, just like any other local variable or parameter. It has the same priority, no magic needed, as any other local variable.\n",
    "- When we assign to an attribute on `self`, we are adding an attribute to our object. (Unless it already exists, in which case we're updating the value for that attribute.) This storage on the object sticks around until the object goes away. If you set an attribute in `__init__` on `self`, that attribute exists on that object for the rest of the Python session, unless you delete the object or the attribute.\n",
    "- In theory, you could assign all attributes to the object outside of `__init__`. However, it's easiest and best to assign attributes inside of `__init__`, so that we can keep track of things more easily. When you want to maintain someone else's class definition, it's easiest to do so if you have a clear list of all attributes.\n",
    "- Most attributes are set based on the parameters, which get their values from arguments to the class. But you can set attributes without any relationship to those parameters, if you want.\n",
    "\n"
   ]
  },
  {
   "cell_type": "code",
   "execution_count": 1,
   "metadata": {},
   "outputs": [],
   "source": [
    "class Person:\n",
    "    def __init__(self, name, shoe_size):\n",
    "        self.name = name\n",
    "        self.shoe_size = shoe_size\n",
    "        self.bank_balance = 0\n",
    "\n",
    "    def greet(self):\n",
    "        return f'Hello, {self.name}!'\n",
    "\n",
    "p = Person('Reuven', 46)        "
   ]
  },
  {
   "cell_type": "code",
   "execution_count": 2,
   "metadata": {},
   "outputs": [
    {
     "data": {
      "text/plain": [
       "'Hello, Reuven!'"
      ]
     },
     "execution_count": 2,
     "metadata": {},
     "output_type": "execute_result"
    }
   ],
   "source": [
    "p.greet() "
   ]
  },
  {
   "cell_type": "code",
   "execution_count": 3,
   "metadata": {},
   "outputs": [
    {
     "data": {
      "text/plain": [
       "'Reuven'"
      ]
     },
     "execution_count": 3,
     "metadata": {},
     "output_type": "execute_result"
    }
   ],
   "source": [
    "p.name"
   ]
  },
  {
   "cell_type": "code",
   "execution_count": 4,
   "metadata": {},
   "outputs": [],
   "source": [
    "p.name = 'whoever'"
   ]
  },
  {
   "cell_type": "code",
   "execution_count": 5,
   "metadata": {},
   "outputs": [
    {
     "data": {
      "text/plain": [
       "'Hello, whoever!'"
      ]
     },
     "execution_count": 5,
     "metadata": {},
     "output_type": "execute_result"
    }
   ],
   "source": [
    "p.greet()"
   ]
  },
  {
   "cell_type": "markdown",
   "metadata": {},
   "source": [
    "# Memory management\n",
    "\n",
    "In Python, we have two ways in which the language handles memory issues:\n",
    "\n",
    "1. Reference counting -- when there are 0 references to an object (e.g., variable names, references from lists/dicts/tuples), then the object is immediately erased, and its memory is freed up.\n",
    "2. Garbage collection -- if we have a circular data structure, then there will always be at least one reference to it, and it won't get released. Python occasionally looks for these and releases the \"islands\" of memory\n",
    "\n",
    "When is an object removed? We see, if it's not a circular island in memory, then whenever the last variable or other reference goes away.\n",
    "\n",
    "Practically speaking, this means that if you have a global variable that refers to an object, then the object will stick around until Python shuts down."
   ]
  },
  {
   "cell_type": "code",
   "execution_count": null,
   "metadata": {},
   "outputs": [],
   "source": []
  }
 ],
 "metadata": {
  "kernelspec": {
   "display_name": "Python 3 (ipykernel)",
   "language": "python",
   "name": "python3"
  },
  "language_info": {
   "codemirror_mode": {
    "name": "ipython",
    "version": 3
   },
   "file_extension": ".py",
   "mimetype": "text/x-python",
   "name": "python",
   "nbconvert_exporter": "python",
   "pygments_lexer": "ipython3",
   "version": "3.13.5"
  }
 },
 "nbformat": 4,
 "nbformat_minor": 4
}
