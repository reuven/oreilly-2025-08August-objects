{
 "cells": [
  {
   "cell_type": "markdown",
   "metadata": {},
   "source": [
    "# Agenda, day 2\n",
    "\n",
    "1. Recap + Q&A\n",
    "2. Magic methods\n",
    "3. Class attributes\n",
    "4. Finding attributes with ICPO\n",
    "5. Inheritance -- what it is, and how ICPO influences it\n",
    "6. Three models for method inheritance\n",
    "7. Data inheritance\n",
    "8. What next?"
   ]
  },
  {
   "cell_type": "markdown",
   "metadata": {},
   "source": [
    "# Recap\n",
    "\n",
    "How do we solve problems? Often, it's easiest if we can use a data structure that's appropriate for the problem we're trying to solve. Objects allow us to create a data structure that is specifically designed to solve our problem, or to make it easier to think about our problem. Even if it's just a wrapper around strings, lists, tuples, dicts, etc., often the fact that an object has a different name can help us to solve our problems more easily.\n",
    "\n",
    "The idea of object-oriented programming is: Create new data structures that are easier to use and think about than existing data structures.\n",
    "\n",
    "- By putting these core data structures inside of an object, we can think at a higher level -- abstraction\n",
    "- Methods (verbs) are defined on the class, which means that they are tightly bound to a particular type of data. Regular functions can be invoked with *any* type of value as an argument, although that might not be appropriate, and you can get an error. Methods are only available on the objects for which they actually exist. If you try to run a method on an object where it wasn't defined, you'll get an \"attribute error,\" meaning that the name after the `.` doesn't exist.\n",
    "- We define new \"classes,\" data structures/types. A type is a class, and a class is a type -- at least when we're talking about them. The `type` function, which tells us what class something has, can only be used there. The `class` keyword can only be used when introducing a new data structure to Python.\n",
    "- A class is also a factory for new objects of that type. If I have a `Person` class, then I can create new instances of `Person` by invoking the class, `Person()`. (Maybe I need to pass one or more arguments.) We often say that a class is a \"factory object,\" because it creates new instances.\n",
    "- The most important method in a class is `__init__` (\"dunder init\") \n",
    "\n"
   ]
  }
 ],
 "metadata": {
  "kernelspec": {
   "display_name": "Python 3 (ipykernel)",
   "language": "python",
   "name": "python3"
  },
  "language_info": {
   "codemirror_mode": {
    "name": "ipython",
    "version": 3
   },
   "file_extension": ".py",
   "mimetype": "text/x-python",
   "name": "python",
   "nbconvert_exporter": "python",
   "pygments_lexer": "ipython3",
   "version": "3.13.5"
  }
 },
 "nbformat": 4,
 "nbformat_minor": 4
}
