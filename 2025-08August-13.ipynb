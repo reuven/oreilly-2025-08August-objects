{
 "cells": [
  {
   "cell_type": "markdown",
   "metadata": {},
   "source": [
    "# Agenda, day 2\n",
    "\n",
    "1. Recap + Q&A\n",
    "2. Magic methods\n",
    "3. Class attributes\n",
    "4. Finding attributes with ICPO\n",
    "5. Inheritance -- what it is, and how ICPO influences it\n",
    "6. Three models for method inheritance\n",
    "7. Data inheritance\n",
    "8. What next?"
   ]
  },
  {
   "cell_type": "markdown",
   "metadata": {},
   "source": [
    "# Recap\n",
    "\n",
    "How do we solve problems? Often, it's easiest if we can use a data structure that's appropriate for the problem we're trying to solve. Objects allow us to create a data structure that is specifically designed to solve our problem, or to make it easier to think about our problem. Even if it's just a wrapper around strings, lists, tuples, dicts, etc., often the fact that an object has a different name can help us to solve our problems more easily.\n",
    "\n",
    "The idea of object-oriented programming is: Create new data structures that are easier to use and think about than existing data structures.\n",
    "\n",
    "- By putting these core data structures inside of an object, we can think at a higher level -- abstraction\n",
    "- Methods (verbs) are defined on the class, which means that they are tightly bound to a particular type of data. Regular functions can be invoked with *any* type of value as an argument, although that might not be appropriate, and you can get an error. Methods are only available on the objects for which they actually exist. If you try to run a method on an object where it wasn't defined, you'll get an \"attribute error,\" meaning that the name after the `.` doesn't exist.\n",
    "- We define new \"classes,\" data structures/types. A type is a class, and a class is a type -- at least when we're talking about them. The `type` function, which tells us what class something has, can only be used there. The `class` keyword can only be used when introducing a new data structure to Python.\n",
    "- A class is also a factory for new objects of that type. If I have a `Person` class, then I can create new instances of `Person` by invoking the class, `Person()`. (Maybe I need to pass one or more arguments.) We often say that a class is a \"factory object,\" because it creates new instances.\n",
    "- The most important method in a class is `__init__` (\"dunder init\") whose job is to add new attributes to the object just after it's created, but before it's returned to the caller. `__init__` is invoked automatically by `__new__`, which we never rewrite, but which creates the new object. If you create 5 instances of `Person`, then `__init__` will be invoked 5 times, once for (and on) each instance.\n",
    "- Each time we invoke a method, the first argument is automatically set to the instance itself. If I call `a.b()`, then the method `b` will get `a` as its first argument. However, the parameter into which `a` will be assigned is always called `self`. That parameter is automatically populated, but it is important.\n",
    "- The whole idea of `self` is that it refers to the current instance. Other languages often have a special name, often `this`, which refers to the current object. Python is unusual in that `self` is a local variable, a parameter, just like any other local variable or parameter. It has the same priority, no magic needed, as any other local variable.\n",
    "- When we assign to an attribute on `self`, we are adding an attribute to our object. (Unless it already exists, in which case we're updating the value for that attribute.) This storage on the object sticks around until the object goes away. If you set an attribute in `__init__` on `self`, that attribute exists on that object for the rest of the Python session, unless you delete the object or the attribute.\n",
    "- In theory, you could assign all attributes to the object outside of `__init__`. However, it's easiest and best to assign attributes inside of `__init__`, so that we can keep track of things more easily. When you want to maintain someone else's class definition, it's easiest to do so if you have a clear list of all attributes.\n",
    "- Most attributes are set based on the parameters, which get their values from arguments to the class. But you can set attributes without any relationship to those parameters, if you want.\n",
    "\n"
   ]
  },
  {
   "cell_type": "code",
   "execution_count": 1,
   "metadata": {},
   "outputs": [],
   "source": [
    "class Person:\n",
    "    def __init__(self, name, shoe_size):\n",
    "        self.name = name\n",
    "        self.shoe_size = shoe_size\n",
    "        self.bank_balance = 0\n",
    "\n",
    "    def greet(self):\n",
    "        return f'Hello, {self.name}!'\n",
    "\n",
    "p = Person('Reuven', 46)        "
   ]
  },
  {
   "cell_type": "code",
   "execution_count": 2,
   "metadata": {},
   "outputs": [
    {
     "data": {
      "text/plain": [
       "'Hello, Reuven!'"
      ]
     },
     "execution_count": 2,
     "metadata": {},
     "output_type": "execute_result"
    }
   ],
   "source": [
    "p.greet() "
   ]
  },
  {
   "cell_type": "code",
   "execution_count": 3,
   "metadata": {},
   "outputs": [
    {
     "data": {
      "text/plain": [
       "'Reuven'"
      ]
     },
     "execution_count": 3,
     "metadata": {},
     "output_type": "execute_result"
    }
   ],
   "source": [
    "p.name"
   ]
  },
  {
   "cell_type": "code",
   "execution_count": 4,
   "metadata": {},
   "outputs": [],
   "source": [
    "p.name = 'whoever'"
   ]
  },
  {
   "cell_type": "code",
   "execution_count": 5,
   "metadata": {},
   "outputs": [
    {
     "data": {
      "text/plain": [
       "'Hello, whoever!'"
      ]
     },
     "execution_count": 5,
     "metadata": {},
     "output_type": "execute_result"
    }
   ],
   "source": [
    "p.greet()"
   ]
  },
  {
   "cell_type": "markdown",
   "metadata": {},
   "source": [
    "# Memory management\n",
    "\n",
    "In Python, we have two ways in which the language handles memory issues:\n",
    "\n",
    "1. Reference counting -- when there are 0 references to an object (e.g., variable names, references from lists/dicts/tuples), then the object is immediately erased, and its memory is freed up.\n",
    "2. Garbage collection -- if we have a circular data structure, then there will always be at least one reference to it, and it won't get released. Python occasionally looks for these and releases the \"islands\" of memory\n",
    "\n",
    "When is an object removed? We see, if it's not a circular island in memory, then whenever the last variable or other reference goes away.\n",
    "\n",
    "Practically speaking, this means that if you have a global variable that refers to an object, then the object will stick around until Python shuts down."
   ]
  },
  {
   "cell_type": "markdown",
   "metadata": {},
   "source": [
    "# Methods\n",
    "\n",
    "Normally, methods are\n",
    "\n",
    "    - defined on the class (in the class body, with `def`)\n",
    "    - invoked on the instance\n",
    "\n",
    "But actually, Python does some rewriting here! If I say\n",
    "\n",
    "    an_instance.a_method()\n",
    "\n",
    "Python rewrites this to be\n",
    "\n",
    "    a_class.a_method(an_instance)"
   ]
  },
  {
   "cell_type": "code",
   "execution_count": 6,
   "metadata": {},
   "outputs": [
    {
     "data": {
      "text/plain": [
       "'ABCDE'"
      ]
     },
     "execution_count": 6,
     "metadata": {},
     "output_type": "execute_result"
    }
   ],
   "source": [
    "s = 'abcde'\n",
    "\n",
    "s.upper()   # I'm invoking the \"str.upper\" method via the instance"
   ]
  },
  {
   "cell_type": "code",
   "execution_count": 7,
   "metadata": {},
   "outputs": [
    {
     "data": {
      "text/plain": [
       "'ABCDE'"
      ]
     },
     "execution_count": 7,
     "metadata": {},
     "output_type": "execute_result"
    }
   ],
   "source": [
    "# I can equivalently say:\n",
    "\n",
    "str.upper(s) # this is what Python wrote line 3 in the above cell to be"
   ]
  },
  {
   "cell_type": "markdown",
   "metadata": {},
   "source": [
    "Now you can see how `self` is populated! The method call is rewritten, and the first argument becomes the instance."
   ]
  },
  {
   "cell_type": "markdown",
   "metadata": {},
   "source": [
    "Weak references -- these allow a variable to refer to a value without modifying its reference count. In this way, you can refer to a value without stopping it from being garbage collected."
   ]
  },
  {
   "cell_type": "markdown",
   "metadata": {},
   "source": [
    "# Exercise: Cellphone\n",
    "\n",
    "1. Define a `Cellphone` class. Each instance will have two attributes:\n",
    "    - `number`\n",
    "    - `model`\n",
    "2. You should be able to invoke the `call` method on your instance of `Cellphone`. It will return a string saying, \"Calling...\" and print the number that it is calling."
   ]
  },
  {
   "cell_type": "code",
   "execution_count": 8,
   "metadata": {},
   "outputs": [],
   "source": [
    "class Cellphone:\n",
    "    def __init__(self, number, model):\n",
    "        self.number = number\n",
    "        self.model = model\n",
    "\n",
    "c1 = Cellphone('12345', 'iPhone')\n",
    "c2 = Cellphone('67890', 'Samsung')"
   ]
  },
  {
   "cell_type": "code",
   "execution_count": 9,
   "metadata": {},
   "outputs": [
    {
     "data": {
      "text/plain": [
       "{'number': '12345', 'model': 'iPhone'}"
      ]
     },
     "execution_count": 9,
     "metadata": {},
     "output_type": "execute_result"
    }
   ],
   "source": [
    "vars(c1)"
   ]
  },
  {
   "cell_type": "code",
   "execution_count": 10,
   "metadata": {},
   "outputs": [
    {
     "data": {
      "text/plain": [
       "{'number': '67890', 'model': 'Samsung'}"
      ]
     },
     "execution_count": 10,
     "metadata": {},
     "output_type": "execute_result"
    }
   ],
   "source": [
    "vars(c2)"
   ]
  },
  {
   "cell_type": "code",
   "execution_count": 11,
   "metadata": {},
   "outputs": [
    {
     "data": {
      "text/plain": [
       "'12345'"
      ]
     },
     "execution_count": 11,
     "metadata": {},
     "output_type": "execute_result"
    }
   ],
   "source": [
    "c1.number"
   ]
  },
  {
   "cell_type": "code",
   "execution_count": 12,
   "metadata": {},
   "outputs": [
    {
     "data": {
      "text/plain": [
       "'67890'"
      ]
     },
     "execution_count": 12,
     "metadata": {},
     "output_type": "execute_result"
    }
   ],
   "source": [
    "c2.number"
   ]
  },
  {
   "cell_type": "code",
   "execution_count": 13,
   "metadata": {},
   "outputs": [
    {
     "data": {
      "text/plain": [
       "'iPhone'"
      ]
     },
     "execution_count": 13,
     "metadata": {},
     "output_type": "execute_result"
    }
   ],
   "source": [
    "c1.model"
   ]
  },
  {
   "cell_type": "code",
   "execution_count": 14,
   "metadata": {},
   "outputs": [
    {
     "data": {
      "text/plain": [
       "'Samsung'"
      ]
     },
     "execution_count": 14,
     "metadata": {},
     "output_type": "execute_result"
    }
   ],
   "source": [
    "c2.model"
   ]
  },
  {
   "cell_type": "code",
   "execution_count": 15,
   "metadata": {},
   "outputs": [
    {
     "name": "stdout",
     "output_type": "stream",
     "text": [
      "Calling 12345 on your iPhone...\n",
      "Calling 67890 on your Samsung...\n"
     ]
    }
   ],
   "source": [
    "# let's now add the \"call\" method\n",
    "\n",
    "class Cellphone:\n",
    "    def __init__(self, number, model):\n",
    "        self.number = number\n",
    "        self.model = model\n",
    "    def call(self):\n",
    "        return f'Calling {self.number} on your {self.model}...'\n",
    "\n",
    "c1 = Cellphone('12345', 'iPhone')\n",
    "c2 = Cellphone('67890', 'Samsung')\n",
    "\n",
    "print(c1.call())\n",
    "print(c2.call())"
   ]
  },
  {
   "cell_type": "code",
   "execution_count": 16,
   "metadata": {},
   "outputs": [
    {
     "name": "stdout",
     "output_type": "stream",
     "text": [
      "Calling 1111 from your iPhone, with a number of 12345...\n",
      "Calling 22222 from your Samsung, with a number of 67890...\n"
     ]
    }
   ],
   "source": [
    "# let's now add the \"call\" method\n",
    "\n",
    "class Cellphone:\n",
    "    def __init__(self, number, model):\n",
    "        self.number = number\n",
    "        self.model = model\n",
    "    def call(self, other_number):\n",
    "        return f'Calling {other_number} from your {self.model}, with a number of {self.number}...'\n",
    "\n",
    "c1 = Cellphone('12345', 'iPhone')\n",
    "c2 = Cellphone('67890', 'Samsung')\n",
    "\n",
    "print(c1.call('1111'))\n",
    "print(c2.call('22222'))"
   ]
  },
  {
   "cell_type": "markdown",
   "metadata": {},
   "source": [
    "# Single Responsibility Principle\n",
    "\n",
    "This is a big deal in the world of objects -- the idea is that one class should do one thing, not many things. If you find yourself loading lots of functionality onto a particular class, that might mean you need to divide it into multiple classes."
   ]
  },
  {
   "cell_type": "markdown",
   "metadata": {},
   "source": [
    "# Magic methods\n",
    "\n",
    "When we perform certain operations in Python, the language looks for a method with a specific name that implements that operation. These methods all start and end with a double underscore, `__`. They are also known as \"dunder methods,\" but many people call them \"magic methods.\" You almost never want to call a magic method directly! Rather, let Python invoke the method on your behalf at the appropriate time.\n",
    "\n",
    "The point of magic methods is that we can make our objects adhere to Python conventions and expectations, and behave much like the core builtin objects -- str, list, tuple, dict.\n",
    "\n",
    "There are about 100 magic methods, and many of them are for complex parts of Python that we're not going to cover here. "
   ]
  },
  {
   "cell_type": "markdown",
   "metadata": {},
   "source": [
    "# Magic method: `__len__`\n",
    "\n",
    "If you call `len` (a builtin function) on an object, then Python looks for a `__len__` method on that object, and invokes it. If there is no `__len__` method, then we get an error, indicating that the \"object has no len\".\n",
    "\n",
    "It's very very very very tempting to just invoke `__len__` directly, rather than invoking the `len` function which will invoke `__len__` behind the scenes. But don't do it!"
   ]
  },
  {
   "cell_type": "code",
   "execution_count": 17,
   "metadata": {},
   "outputs": [],
   "source": [
    "p = Person('Reuven', 46)"
   ]
  },
  {
   "cell_type": "code",
   "execution_count": 18,
   "metadata": {},
   "outputs": [
    {
     "ename": "TypeError",
     "evalue": "object of type 'Person' has no len()",
     "output_type": "error",
     "traceback": [
      "\u001b[31m---------------------------------------------------------------------------\u001b[39m",
      "\u001b[31mTypeError\u001b[39m                                 Traceback (most recent call last)",
      "\u001b[36mCell\u001b[39m\u001b[36m \u001b[39m\u001b[32mIn[18]\u001b[39m\u001b[32m, line 1\u001b[39m\n\u001b[32m----> \u001b[39m\u001b[32m1\u001b[39m \u001b[38;5;28;43mlen\u001b[39;49m\u001b[43m(\u001b[49m\u001b[43mp\u001b[49m\u001b[43m)\u001b[49m\n",
      "\u001b[31mTypeError\u001b[39m: object of type 'Person' has no len()"
     ]
    }
   ],
   "source": [
    "len(p)"
   ]
  },
  {
   "cell_type": "markdown",
   "metadata": {},
   "source": [
    "# What happened?\n",
    "\n",
    "1. I invoked `len(p)`\n",
    "2. `len` looks for `p.__len__`. It didn't find such a method.\n",
    "3. It then raised an exception, saying that it didn't find such a method.\n",
    "\n",
    "We could, of course, add a `__len__` method to `Person`. By doing that, we would be defining what it means to have a `len`. But it's totally OK to say that certain objects have no length -- such as integers."
   ]
  },
  {
   "cell_type": "code",
   "execution_count": 27,
   "metadata": {},
   "outputs": [
    {
     "ename": "TypeError",
     "evalue": "object of type 'Person' has no len()",
     "output_type": "error",
     "traceback": [
      "\u001b[31m---------------------------------------------------------------------------\u001b[39m",
      "\u001b[31mTypeError\u001b[39m                                 Traceback (most recent call last)",
      "\u001b[36mCell\u001b[39m\u001b[36m \u001b[39m\u001b[32mIn[27]\u001b[39m\u001b[32m, line 11\u001b[39m\n\u001b[32m      8\u001b[39m         \u001b[38;5;28;01mreturn\u001b[39;00m \u001b[33mf\u001b[39m\u001b[33m'\u001b[39m\u001b[33mHello, \u001b[39m\u001b[38;5;132;01m{\u001b[39;00m\u001b[38;5;28mself\u001b[39m.name\u001b[38;5;132;01m}\u001b[39;00m\u001b[33m!\u001b[39m\u001b[33m'\u001b[39m\n\u001b[32m     10\u001b[39m p = Person(\u001b[33m'\u001b[39m\u001b[33mReuven\u001b[39m\u001b[33m'\u001b[39m, \u001b[32m46\u001b[39m)        \n\u001b[32m---> \u001b[39m\u001b[32m11\u001b[39m \u001b[38;5;28;43mlen\u001b[39;49m\u001b[43m(\u001b[49m\u001b[43mp\u001b[49m\u001b[43m)\u001b[49m   \u001b[38;5;66;03m# this produces an error\u001b[39;00m\n",
      "\u001b[31mTypeError\u001b[39m: object of type 'Person' has no len()"
     ]
    }
   ],
   "source": [
    "class Person:\n",
    "    def __init__(self, name, shoe_size):\n",
    "        self.name = name\n",
    "        self.shoe_size = shoe_size\n",
    "        self.bank_balance = 0\n",
    "\n",
    "    def greet(self):\n",
    "        return f'Hello, {self.name}!'\n",
    "\n",
    "p = Person('Reuven', 46)        \n",
    "len(p)   # this produces an error"
   ]
  },
  {
   "cell_type": "code",
   "execution_count": 28,
   "metadata": {},
   "outputs": [],
   "source": [
    "class Person:\n",
    "    def __init__(self, name, shoe_size):\n",
    "        self.name = name\n",
    "        self.shoe_size = shoe_size\n",
    "        self.bank_balance = 0\n",
    "\n",
    "    def greet(self):\n",
    "        return f'Hello, {self.name}!'\n",
    "\n",
    "    def __len__(self):\n",
    "        return self.shoe_size   # we'll say that when we want the person's len, we really want their shoe size\n",
    "\n",
    "p = Person('Reuven', 46)        "
   ]
  },
  {
   "cell_type": "code",
   "execution_count": 29,
   "metadata": {},
   "outputs": [
    {
     "data": {
      "text/plain": [
       "46"
      ]
     },
     "execution_count": 29,
     "metadata": {},
     "output_type": "execute_result"
    }
   ],
   "source": [
    "len(p)  # this led to invoking p.__len__(), and we get the result back -- so long as __len__ returns an integer, we're fine"
   ]
  },
  {
   "cell_type": "markdown",
   "metadata": {},
   "source": [
    "# What does `len` do?\n",
    "\n",
    "The answer is: Whatever the `__len__` method on a class tells it to do:\n",
    "\n",
    "- `str.__len__` returns the number of characters\n",
    "- `list.__len__` and `tuple.__len__` both return the number of elements\n",
    "- `dict.__len__` returns the number of key-value pairs\n",
    "\n",
    "You can define `__len__` to return the same value each time, a random value each time, or (more realistically) a value that depends on the attributes in the object."
   ]
  },
  {
   "cell_type": "markdown",
   "metadata": {},
   "source": [
    "# Exercise: How many scoops?\n",
    "\n",
    "On Monday, we defined `Scoop` and `Bowl` classes, for ice cream. We're going to keep using them today. \n",
    "\n",
    "1. Now, modify `Bowl` such that we can invoke `len` on it. We should get back the number of scoops in `bowl.scoops`.\n",
    "2. Use this method twice, once before adding scoops, and once after."
   ]
  },
  {
   "cell_type": "code",
   "execution_count": null,
   "metadata": {},
   "outputs": [],
   "source": []
  },
  {
   "cell_type": "code",
   "execution_count": 32,
   "metadata": {},
   "outputs": [
    {
     "name": "stdout",
     "output_type": "stream",
     "text": [
      "['chocolate', 'vanilla', 'coffee']\n",
      "3\n"
     ]
    }
   ],
   "source": [
    "class Scoop:\n",
    "    def __init__(self, flavor):\n",
    "        self.flavor = flavor\n",
    "\n",
    "s1 = Scoop('chocolate')\n",
    "s2 = Scoop('vanilla')\n",
    "s3 = Scoop('coffee')\n",
    "\n",
    "class Bowl:\n",
    "    def __init__(self):\n",
    "        self.scoops = []\n",
    "\n",
    "    def add_scoop(self, new_scoop):\n",
    "        self.scoops.append(new_scoop)\n",
    "\n",
    "    def flavors(self):\n",
    "        return [one_scoop.flavor\n",
    "                for one_scoop in self.scoops]\n",
    "\n",
    "    def add_scoops(self, *new_scoops):   # *new_scoops means new_scoops will be a tuple with all positional arguments\n",
    "        for one_scoop in new_scoops:\n",
    "            self.add_scoop(one_scoop)   # we can invoke a method on our own!\n",
    "\n",
    "    def __len__(self):\n",
    "        return len(self.scoops)\n",
    "\n",
    "b = Bowl()\n",
    "b.add_scoops(s1, s2, s3)\n",
    "\n",
    "print(b.flavors())\n",
    "print(len(b))"
   ]
  },
  {
   "cell_type": "code",
   "execution_count": 33,
   "metadata": {},
   "outputs": [
    {
     "data": {
      "text/plain": [
       "3"
      ]
     },
     "execution_count": 33,
     "metadata": {},
     "output_type": "execute_result"
    }
   ],
   "source": [
    "len(b.scoops)"
   ]
  },
  {
   "cell_type": "code",
   "execution_count": 34,
   "metadata": {},
   "outputs": [
    {
     "name": "stdout",
     "output_type": "stream",
     "text": [
      "5\n"
     ]
    }
   ],
   "source": [
    "# IN\n",
    "\n",
    "my_list = [10, 20, 30, 40, 50]\n",
    "length_of_list = len(my_list)\n",
    "print(length_of_list)"
   ]
  },
  {
   "cell_type": "code",
   "execution_count": 35,
   "metadata": {},
   "outputs": [
    {
     "name": "stdout",
     "output_type": "stream",
     "text": [
      "5\n"
     ]
    }
   ],
   "source": [
    "print(len(my_list))"
   ]
  },
  {
   "cell_type": "code",
   "execution_count": 36,
   "metadata": {},
   "outputs": [
    {
     "data": {
      "text/plain": [
       "3"
      ]
     },
     "execution_count": 36,
     "metadata": {},
     "output_type": "execute_result"
    }
   ],
   "source": [
    "# don't do this!  but you could say\n",
    "\n",
    "b.__len__()"
   ]
  },
  {
   "cell_type": "code",
   "execution_count": 37,
   "metadata": {},
   "outputs": [
    {
     "data": {
      "text/plain": [
       "5"
      ]
     },
     "execution_count": 37,
     "metadata": {},
     "output_type": "execute_result"
    }
   ],
   "source": [
    "s = 'abcde'\n",
    "s.__len__()"
   ]
  },
  {
   "cell_type": "code",
   "execution_count": 38,
   "metadata": {},
   "outputs": [],
   "source": [
    "# can you assign attributes and methods outside of the class, after the class has been written?"
   ]
  },
  {
   "cell_type": "code",
   "execution_count": 52,
   "metadata": {},
   "outputs": [],
   "source": [
    "class MyClass:\n",
    "    def __init__(self, x):\n",
    "        self.x = x\n",
    "\n",
    "    def by_3(self):\n",
    "        return self.x * 3\n",
    "\n",
    "    def return_vars(self):\n",
    "        return vars(self)\n",
    "\n",
    "m = MyClass(10)  # I passed 10, which was passed to x in __init__, which means that self.x was set to 10"
   ]
  },
  {
   "cell_type": "code",
   "execution_count": 53,
   "metadata": {},
   "outputs": [
    {
     "data": {
      "text/plain": [
       "{'x': 10}"
      ]
     },
     "execution_count": 53,
     "metadata": {},
     "output_type": "execute_result"
    }
   ],
   "source": [
    "vars(m)"
   ]
  },
  {
   "cell_type": "code",
   "execution_count": 54,
   "metadata": {},
   "outputs": [],
   "source": [
    "# self (local variable) inside of __init__ and m (global variable) outside of __init__ are the same object\n",
    "# modifying one affects the other"
   ]
  },
  {
   "cell_type": "code",
   "execution_count": 55,
   "metadata": {},
   "outputs": [
    {
     "data": {
      "text/plain": [
       "10"
      ]
     },
     "execution_count": 55,
     "metadata": {},
     "output_type": "execute_result"
    }
   ],
   "source": [
    "m.x"
   ]
  },
  {
   "cell_type": "code",
   "execution_count": 56,
   "metadata": {},
   "outputs": [
    {
     "data": {
      "text/plain": [
       "{'x': 20}"
      ]
     },
     "execution_count": 56,
     "metadata": {},
     "output_type": "execute_result"
    }
   ],
   "source": [
    "m.x = 20\n",
    "vars(m)"
   ]
  },
  {
   "cell_type": "code",
   "execution_count": 57,
   "metadata": {},
   "outputs": [
    {
     "data": {
      "text/plain": [
       "60"
      ]
     },
     "execution_count": 57,
     "metadata": {},
     "output_type": "execute_result"
    }
   ],
   "source": [
    "m.by_3()   # when we invoke the method, m (global) is assigned to self (local)"
   ]
  },
  {
   "cell_type": "code",
   "execution_count": 58,
   "metadata": {},
   "outputs": [],
   "source": [
    "# can I add a new attribute to an object from outside of __init__, or the class itself?\n",
    "# YES, this is Python! We can do anything, even if it's a bad idea!\n",
    "\n",
    "m.y = 999"
   ]
  },
  {
   "cell_type": "code",
   "execution_count": 59,
   "metadata": {},
   "outputs": [
    {
     "data": {
      "text/plain": [
       "{'x': 20, 'y': 999}"
      ]
     },
     "execution_count": 59,
     "metadata": {},
     "output_type": "execute_result"
    }
   ],
   "source": [
    "m.return_vars()"
   ]
  },
  {
   "cell_type": "code",
   "execution_count": 60,
   "metadata": {},
   "outputs": [],
   "source": [
    "# can I add a new method to the class outside of its definition?\n",
    "# yes... but it's a very very very bad idea, and it's also a bit complex to do"
   ]
  },
  {
   "cell_type": "code",
   "execution_count": null,
   "metadata": {},
   "outputs": [],
   "source": []
  },
  {
   "cell_type": "markdown",
   "metadata": {},
   "source": [
    "# Next up\n",
    "\n",
    "1. `__str__` and `__repr__`\n",
    "2. More magic methods, and what they do (and how they work)\n"
   ]
  },
  {
   "cell_type": "markdown",
   "metadata": {},
   "source": [
    "When we invoke `print` on an object, what happens?\n",
    "\n",
    "- `print` invokes `str` on whatever argument it got. That returns a string based on the value. This is how `print` can display any Python value!\n",
    "- What happens when we invoke `str`? "
   ]
  },
  {
   "cell_type": "code",
   "execution_count": 61,
   "metadata": {},
   "outputs": [
    {
     "name": "stdout",
     "output_type": "stream",
     "text": [
      "<__main__.MyClass object at 0x10d15d400>\n"
     ]
    }
   ],
   "source": [
    "class MyClass:\n",
    "    def __init__(self, x):\n",
    "        self.x = x\n",
    "\n",
    "m = MyClass(10)\n",
    "\n",
    "print(m)  # what is this printing? "
   ]
  },
  {
   "cell_type": "markdown",
   "metadata": {},
   "source": [
    "When we invoke `print` on an object, it invokes `str`. When `str` is invoked on an object, it looks for and invokes the `__str__` method on that object. By default, `__str__` gives us a very ugly result (that works).\n",
    "\n",
    "If we want, we can define our own version of `__str__`. So long as it returns a string, we can return anything we want."
   ]
  },
  {
   "cell_type": "code",
   "execution_count": 63,
   "metadata": {},
   "outputs": [
    {
     "name": "stdout",
     "output_type": "stream",
     "text": [
      "An instance of MyClass with x = 10\n"
     ]
    }
   ],
   "source": [
    "class MyClass:\n",
    "    def __init__(self, x):\n",
    "        self.x = x\n",
    "\n",
    "    def __str__(self):\n",
    "        return f'An instance of MyClass with x = {self.x}'\n",
    "\n",
    "m = MyClass(10)\n",
    "\n",
    "print(m)  # print(m) -> print(str(m)) -> print(m.__str__())"
   ]
  },
  {
   "cell_type": "markdown",
   "metadata": {},
   "source": [
    "It's almost always a good idea to implement `__str__` on an object.\n",
    "\n",
    "(I'm going to contradict that in a few minutes.)"
   ]
  },
  {
   "cell_type": "markdown",
   "metadata": {},
   "source": [
    "# Exercise: Printable scoops\n",
    "\n",
    "Right now, if you invoke `print` on any of our `Scoop` instances, you'll get an ugly default string back. Add a `__str__` method to `Scoop`, such that it says, `'Scoop of FLAVOR'`."
   ]
  },
  {
   "cell_type": "code",
   "execution_count": 65,
   "metadata": {},
   "outputs": [
    {
     "name": "stdout",
     "output_type": "stream",
     "text": [
      "['chocolate', 'vanilla', 'coffee']\n",
      "3\n",
      "Scoop of chocolate\n",
      "Scoop of vanilla\n",
      "Scoop of coffee\n"
     ]
    }
   ],
   "source": [
    "class Scoop:\n",
    "    def __init__(self, flavor):\n",
    "        self.flavor = flavor\n",
    "    def __str__(self):\n",
    "        return f'Scoop of {self.flavor}'\n",
    "\n",
    "s1 = Scoop('chocolate')\n",
    "s2 = Scoop('vanilla')\n",
    "s3 = Scoop('coffee')\n",
    "\n",
    "class Bowl:\n",
    "    def __init__(self):\n",
    "        self.scoops = []\n",
    "\n",
    "    def add_scoop(self, new_scoop):\n",
    "        self.scoops.append(new_scoop)\n",
    "\n",
    "    def flavors(self):\n",
    "        return [one_scoop.flavor\n",
    "                for one_scoop in self.scoops]\n",
    "\n",
    "    def add_scoops(self, *new_scoops):   # *new_scoops means new_scoops will be a tuple with all positional arguments\n",
    "        for one_scoop in new_scoops:\n",
    "            self.add_scoop(one_scoop)   # we can invoke a method on our own!\n",
    "\n",
    "    def __len__(self):\n",
    "        return len(self.scoops)\n",
    "\n",
    "b = Bowl()\n",
    "b.add_scoops(s1, s2, s3)\n",
    "\n",
    "print(b.flavors())\n",
    "print(len(b))\n",
    "print(s1)\n",
    "print(s2)\n",
    "print(s3)"
   ]
  },
  {
   "cell_type": "markdown",
   "metadata": {},
   "source": [
    "# Exercise: Printable bowls\n",
    "\n",
    "If I run `str` on an instance of `Bowl`, or if I `print` an instance of `Bowl`, I want to get back a string:\n",
    "\n",
    "- Goes through each scoop, printing it\n",
    "- Numbers those scoops, as well\n",
    "- Has a short header saying, \"Bowl with scoops\"\n",
    "\n",
    "In other words, if I say\n",
    "\n",
    "    print(b)\n",
    "\n",
    "I should see something like:\n",
    "\n",
    "    Bowl with:\n",
    "        1. Scoop of chocolate\n",
    "        2. Scoop of vanilla\n",
    "        3. Scoop of coffee\n"
   ]
  },
  {
   "cell_type": "code",
   "execution_count": 75,
   "metadata": {},
   "outputs": [
    {
     "name": "stdout",
     "output_type": "stream",
     "text": [
      "['chocolate', 'vanilla', 'coffee']\n",
      "3\n",
      "Scoop of chocolate\n",
      "Scoop of vanilla\n",
      "Scoop of coffee\n",
      "***\n",
      "Bowl with:\n",
      "  1: Scoop of chocolate\n",
      "  2: Scoop of vanilla\n",
      "  3: Scoop of coffee\n",
      "\n"
     ]
    }
   ],
   "source": [
    "class Scoop:\n",
    "    def __init__(self, flavor):\n",
    "        self.flavor = flavor\n",
    "    def __str__(self):\n",
    "        return f'Scoop of {self.flavor}'\n",
    "\n",
    "s1 = Scoop('chocolate')\n",
    "s2 = Scoop('vanilla')\n",
    "s3 = Scoop('coffee')\n",
    "\n",
    "class Bowl:\n",
    "    def __init__(self):\n",
    "        self.scoops = []\n",
    "\n",
    "    def add_scoop(self, new_scoop):\n",
    "        self.scoops.append(new_scoop)\n",
    "\n",
    "    def flavors(self):\n",
    "        return [one_scoop.flavor\n",
    "                for one_scoop in self.scoops]\n",
    "\n",
    "    def add_scoops(self, *new_scoops):   # *new_scoops means new_scoops will be a tuple with all positional arguments\n",
    "        for one_scoop in new_scoops:\n",
    "            self.add_scoop(one_scoop)   # we can invoke a method on our own!\n",
    "\n",
    "    def __len__(self):\n",
    "        return len(self.scoops)\n",
    "\n",
    "    def __str__(self):\n",
    "        output = 'Bowl with:\\n'\n",
    "        for index, one_scoop in enumerate(self.scoops, 1):\n",
    "            output += f'  {index}: {one_scoop}\\n'\n",
    "        \n",
    "        return output\n",
    "\n",
    "b = Bowl()\n",
    "b.add_scoops(s1, s2, s3)\n",
    "\n",
    "print(b.flavors())\n",
    "print(len(b))\n",
    "print(s1)\n",
    "print(s2)\n",
    "print(s3)\n",
    "print('***')\n",
    "print(b)"
   ]
  },
  {
   "cell_type": "markdown",
   "metadata": {},
   "source": [
    "JB: How can I use AI to improve my learning?\n",
    "\n",
    "- https://speakerdeck.com/reuven/edu-summit-2025-dot-key\n",
    "- https://www.youtube.com/watch?v=rEddzOVCAEM&list=PLbFHh-ZjYFwGbJ88vVV1MqusPfbLxtXFu&index=8"
   ]
  },
  {
   "cell_type": "code",
   "execution_count": 76,
   "metadata": {},
   "outputs": [
    {
     "name": "stdout",
     "output_type": "stream",
     "text": [
      "Bowl with:\n",
      "  1: Scoop of chocolate\n",
      "  2: Scoop of vanilla\n",
      "  3: Scoop of coffee\n",
      "\n"
     ]
    }
   ],
   "source": [
    "# if we print our bowl, we get this:\n",
    "\n",
    "print(b)"
   ]
  },
  {
   "cell_type": "code",
   "execution_count": 77,
   "metadata": {},
   "outputs": [
    {
     "data": {
      "text/plain": [
       "<__main__.Bowl at 0x10d15d2b0>"
      ]
     },
     "execution_count": 77,
     "metadata": {},
     "output_type": "execute_result"
    }
   ],
   "source": [
    "# in Jupyter, I can just put any expression in a cell, and see the printed representation\n",
    "\n",
    "b"
   ]
  },
  {
   "cell_type": "markdown",
   "metadata": {},
   "source": [
    "# `__str__` and `__repr__`\n",
    "\n",
    "There are actually *two* magic methods that govern how an object displays itself, or turns itself into a string.\n",
    "\n",
    "- `__str__` is the one we normally think about, because it affects end users, and it naturally aligns with `str`. The output from `__str__` is supposed to be for end users.\n",
    "- `__repr__`, the printed representation, is meant for coders and others working behind the scenes -- in Jupyter, a debugger, and elsewhere. In theory, according to the Python conventions, the string returned by `__repr__` should be legitimate Python code.\n",
    "\n",
    "Realistically, I almost never want to distinguish between `__str__` and `__repr__`.  Moreover:\n",
    "\n",
    "- If you define both of them, they'll be displayed in different contexts\n",
    "- If you define only `__str__`, then it'll be showed for `print` but not in Jupyter\n",
    "- If you define only `__repr__`, it'll be used in all contexts\n",
    "\n",
    "I argue: Always define `__repr__`, never define `__str__`... unless you want to show different things to internal developers and end users."
   ]
  },
  {
   "cell_type": "code",
   "execution_count": 78,
   "metadata": {},
   "outputs": [
    {
     "name": "stdout",
     "output_type": "stream",
     "text": [
      "['chocolate', 'vanilla', 'coffee']\n",
      "3\n",
      "Scoop of chocolate\n",
      "Scoop of vanilla\n",
      "Scoop of coffee\n",
      "***\n",
      "Bowl with:\n",
      "  1: Scoop of chocolate\n",
      "  2: Scoop of vanilla\n",
      "  3: Scoop of coffee\n",
      "\n"
     ]
    }
   ],
   "source": [
    "# change Scoop and Bowl to define __repr__, and not __str__\n",
    "\n",
    "class Scoop:\n",
    "    def __init__(self, flavor):\n",
    "        self.flavor = flavor\n",
    "    def __repr__(self):\n",
    "        return f'Scoop of {self.flavor}'\n",
    "\n",
    "s1 = Scoop('chocolate')\n",
    "s2 = Scoop('vanilla')\n",
    "s3 = Scoop('coffee')\n",
    "\n",
    "class Bowl:\n",
    "    def __init__(self):\n",
    "        self.scoops = []\n",
    "\n",
    "    def add_scoop(self, new_scoop):\n",
    "        self.scoops.append(new_scoop)\n",
    "\n",
    "    def flavors(self):\n",
    "        return [one_scoop.flavor\n",
    "                for one_scoop in self.scoops]\n",
    "\n",
    "    def add_scoops(self, *new_scoops):   # *new_scoops means new_scoops will be a tuple with all positional arguments\n",
    "        for one_scoop in new_scoops:\n",
    "            self.add_scoop(one_scoop)   # we can invoke a method on our own!\n",
    "\n",
    "    def __len__(self):\n",
    "        return len(self.scoops)\n",
    "\n",
    "    def __repr__(self):\n",
    "        output = 'Bowl with:\\n'\n",
    "        for index, one_scoop in enumerate(self.scoops, 1):\n",
    "            output += f'  {index}: {one_scoop}\\n'\n",
    "        \n",
    "        return output\n",
    "\n",
    "b = Bowl()\n",
    "b.add_scoops(s1, s2, s3)\n",
    "\n",
    "print(b.flavors())\n",
    "print(len(b))\n",
    "print(s1)\n",
    "print(s2)\n",
    "print(s3)\n",
    "print('***')\n",
    "print(b)"
   ]
  },
  {
   "cell_type": "code",
   "execution_count": 79,
   "metadata": {},
   "outputs": [
    {
     "data": {
      "text/plain": [
       "Scoop of chocolate"
      ]
     },
     "execution_count": 79,
     "metadata": {},
     "output_type": "execute_result"
    }
   ],
   "source": [
    "s1"
   ]
  },
  {
   "cell_type": "code",
   "execution_count": 80,
   "metadata": {},
   "outputs": [
    {
     "data": {
      "text/plain": [
       "Bowl with:\n",
       "  1: Scoop of chocolate\n",
       "  2: Scoop of vanilla\n",
       "  3: Scoop of coffee"
      ]
     },
     "execution_count": 80,
     "metadata": {},
     "output_type": "execute_result"
    }
   ],
   "source": [
    "b"
   ]
  },
  {
   "cell_type": "markdown",
   "metadata": {},
   "source": [
    "# What other magic methods are there?\n",
    "\n",
    "- When you compare `a == b`, this actually invokes the `__eq__` magic method. The expression is rewritten to be `a.__eq__(b)`.\n",
    "- When you retrieve `a[b]`, this actually invokes the `__getitem__` magic method. This is rewritten to be `a.__getitem__(b)`.\n",
    "- When you add `a + b`, this actually invokes the `__add__` magic method. The expression is rewritten to be `a.__add__(b)`.\n",
    "\n",
    "These are all \"callback\" methods, meaning that we aren't supposed to define them ourselves. Rather, when we define them, we're putting them in place for Python to invoke them at particular times."
   ]
  },
  {
   "cell_type": "code",
   "execution_count": 82,
   "metadata": {},
   "outputs": [
    {
     "data": {
      "text/plain": [
       "31"
      ]
     },
     "execution_count": 82,
     "metadata": {},
     "output_type": "execute_result"
    }
   ],
   "source": [
    "11 | 21   # this does bitwise \"or\""
   ]
  },
  {
   "cell_type": "code",
   "execution_count": 83,
   "metadata": {},
   "outputs": [],
   "source": [
    "# the | operator uses a magic method, like all operators. That's why sets, dicts, and NumPy/Pandas data sets can use |\n",
    "# they simply defined the right magic method on their objects"
   ]
  },
  {
   "cell_type": "code",
   "execution_count": 85,
   "metadata": {},
   "outputs": [],
   "source": [
    "class MyClass:\n",
    "    def __init__(self, x):\n",
    "        self.x = x\n",
    "\n",
    "m1 = MyClass(10)\n",
    "m2 = MyClass(10)"
   ]
  },
  {
   "cell_type": "code",
   "execution_count": 86,
   "metadata": {},
   "outputs": [
    {
     "data": {
      "text/plain": [
       "False"
      ]
     },
     "execution_count": 86,
     "metadata": {},
     "output_type": "execute_result"
    }
   ],
   "source": [
    "m1 == m2  "
   ]
  },
  {
   "cell_type": "code",
   "execution_count": 87,
   "metadata": {},
   "outputs": [
    {
     "data": {
      "text/plain": [
       "True"
      ]
     },
     "execution_count": 87,
     "metadata": {},
     "output_type": "execute_result"
    }
   ],
   "source": [
    "class MyClass:\n",
    "    def __init__(self, x):\n",
    "        self.x = x\n",
    "\n",
    "    def __eq__(self, other):\n",
    "        return self.x == other.x\n",
    "\n",
    "m1 = MyClass(10)\n",
    "m2 = MyClass(10)\n",
    "\n",
    "m1 == m2   # m1.__eq__(m2)"
   ]
  },
  {
   "cell_type": "code",
   "execution_count": null,
   "metadata": {},
   "outputs": [],
   "source": []
  },
  {
   "cell_type": "markdown",
   "metadata": {},
   "source": [
    "# Next up:\n",
    "\n",
    "1. Class attributes\n",
    "2. Attribute lookup\n",
    "3. Inheritance"
   ]
  },
  {
   "cell_type": "markdown",
   "metadata": {},
   "source": [
    "# Class attributes\n",
    "\n",
    "To understand class attributes, we're going to tell a little story. The story is that our company produces the `Person` class. We have many customers who are paying top dollar for our class."
   ]
  },
  {
   "cell_type": "code",
   "execution_count": 88,
   "metadata": {},
   "outputs": [
    {
     "name": "stdout",
     "output_type": "stream",
     "text": [
      "Hello, name1\n",
      "Hello, name2\n"
     ]
    }
   ],
   "source": [
    "class Person:\n",
    "    def __init__(self, name):\n",
    "        self.name = name\n",
    "\n",
    "    def greet(self):\n",
    "        return f'Hello, {self.name}'\n",
    "\n",
    "p1 = Person('name1')\n",
    "p2 = Person('name2')\n",
    "\n",
    "print(p1.greet())\n",
    "print(p2.greet())"
   ]
  },
  {
   "cell_type": "markdown",
   "metadata": {},
   "source": [
    "Our customers have demanded that we add functionality to this class. They want to know how many instances of `Person` we have created at a time.\n",
    "\n",
    "My plan: I know that every time we create a new instance, we invoke `__init__`. Every time we invoke `__init__`, I'll add 1 to a global variable, `population`, that keeps track of this stuff."
   ]
  },
  {
   "cell_type": "code",
   "execution_count": 89,
   "metadata": {},
   "outputs": [
    {
     "name": "stdout",
     "output_type": "stream",
     "text": [
      "Before, population = 0\n"
     ]
    },
    {
     "ename": "UnboundLocalError",
     "evalue": "cannot access local variable 'population' where it is not associated with a value",
     "output_type": "error",
     "traceback": [
      "\u001b[31m---------------------------------------------------------------------------\u001b[39m",
      "\u001b[31mUnboundLocalError\u001b[39m                         Traceback (most recent call last)",
      "\u001b[36mCell\u001b[39m\u001b[36m \u001b[39m\u001b[32mIn[89]\u001b[39m\u001b[32m, line 12\u001b[39m\n\u001b[32m      9\u001b[39m         \u001b[38;5;28;01mreturn\u001b[39;00m \u001b[33mf\u001b[39m\u001b[33m'\u001b[39m\u001b[33mHello, \u001b[39m\u001b[38;5;132;01m{\u001b[39;00m\u001b[38;5;28mself\u001b[39m.name\u001b[38;5;132;01m}\u001b[39;00m\u001b[33m'\u001b[39m\n\u001b[32m     11\u001b[39m \u001b[38;5;28mprint\u001b[39m(\u001b[33mf\u001b[39m\u001b[33m'\u001b[39m\u001b[33mBefore, population = \u001b[39m\u001b[38;5;132;01m{\u001b[39;00mpopulation\u001b[38;5;132;01m}\u001b[39;00m\u001b[33m'\u001b[39m)\n\u001b[32m---> \u001b[39m\u001b[32m12\u001b[39m p1 = \u001b[43mPerson\u001b[49m\u001b[43m(\u001b[49m\u001b[33;43m'\u001b[39;49m\u001b[33;43mname1\u001b[39;49m\u001b[33;43m'\u001b[39;49m\u001b[43m)\u001b[49m\n\u001b[32m     13\u001b[39m p2 = Person(\u001b[33m'\u001b[39m\u001b[33mname2\u001b[39m\u001b[33m'\u001b[39m)\n\u001b[32m     14\u001b[39m \u001b[38;5;28mprint\u001b[39m(\u001b[33mf\u001b[39m\u001b[33m'\u001b[39m\u001b[33mAfter, population = \u001b[39m\u001b[38;5;132;01m{\u001b[39;00mpopulation\u001b[38;5;132;01m}\u001b[39;00m\u001b[33m'\u001b[39m)\n",
      "\u001b[36mCell\u001b[39m\u001b[36m \u001b[39m\u001b[32mIn[89]\u001b[39m\u001b[32m, line 6\u001b[39m, in \u001b[36mPerson.__init__\u001b[39m\u001b[34m(self, name)\u001b[39m\n\u001b[32m      4\u001b[39m \u001b[38;5;28;01mdef\u001b[39;00m\u001b[38;5;250m \u001b[39m\u001b[34m__init__\u001b[39m(\u001b[38;5;28mself\u001b[39m, name):\n\u001b[32m      5\u001b[39m     \u001b[38;5;28mself\u001b[39m.name = name\n\u001b[32m----> \u001b[39m\u001b[32m6\u001b[39m     \u001b[43mpopulation\u001b[49m += \u001b[32m1\u001b[39m\n",
      "\u001b[31mUnboundLocalError\u001b[39m: cannot access local variable 'population' where it is not associated with a value"
     ]
    }
   ],
   "source": [
    "population = 0\n",
    "\n",
    "class Person:\n",
    "    def __init__(self, name):\n",
    "        self.name = name\n",
    "        population += 1  # because we're assigning to population here, it's a local variable, unconnected to the global population!\n",
    "\n",
    "    def greet(self):\n",
    "        return f'Hello, {self.name}'\n",
    "\n",
    "print(f'Before, population = {population}')\n",
    "p1 = Person('name1')\n",
    "p2 = Person('name2')\n",
    "print(f'After, population = {population}')\n",
    "\n",
    "print(p1.greet())\n",
    "print(p2.greet())"
   ]
  },
  {
   "cell_type": "code",
   "execution_count": 90,
   "metadata": {},
   "outputs": [
    {
     "name": "stdout",
     "output_type": "stream",
     "text": [
      "Before, population = 0\n",
      "After, population = 2\n",
      "Hello, name1\n",
      "Hello, name2\n"
     ]
    }
   ],
   "source": [
    "# one fix: use the \"global\" statement in our method \n",
    "# that tells Python not to create a local variable, but always to use the global\n",
    "\n",
    "population = 0\n",
    "\n",
    "class Person:\n",
    "    def __init__(self, name):\n",
    "        global population\n",
    "        self.name = name\n",
    "        population += 1 \n",
    "\n",
    "    def greet(self):\n",
    "        return f'Hello, {self.name}'\n",
    "\n",
    "print(f'Before, population = {population}')\n",
    "p1 = Person('name1')\n",
    "p2 = Person('name2')\n",
    "print(f'After, population = {population}')\n",
    "\n",
    "print(p1.greet())\n",
    "print(p2.greet())"
   ]
  },
  {
   "cell_type": "markdown",
   "metadata": {},
   "source": [
    "# Everything is an object\n",
    "\n",
    "Remember that absolutely everything in Python is an object. And remember that every object has attributes. And remember that we can set/retrieve attributes on any object we want.\n",
    "\n",
    "`Person` is a class. But it is also an object, because everything is an object.\n",
    "\n",
    "Because `Person` is an object, it has attributes. We can set attributes.\n",
    "\n",
    "So far, we have been setting attributes on the *instances* of `Person`. Now we're going to set an attribute on the class itself, on the factory object.\n",
    "\n",
    "How do we do this? We assign to an attribute on the class, that's all."
   ]
  },
  {
   "cell_type": "code",
   "execution_count": 91,
   "metadata": {},
   "outputs": [
    {
     "name": "stdout",
     "output_type": "stream",
     "text": [
      "Before, population = 0\n",
      "After, population = 2\n",
      "Hello, name1\n",
      "Hello, name2\n"
     ]
    }
   ],
   "source": [
    "# much better: add an attribute to Person\n",
    "\n",
    "class Person:\n",
    "    def __init__(self, name):\n",
    "        self.name = name\n",
    "        Person.population += 1 \n",
    "\n",
    "    def greet(self):\n",
    "        return f'Hello, {self.name}'\n",
    "\n",
    "# after defining the Person class, we can say\n",
    "Person.population = 0\n",
    "\n",
    "print(f'Before, population = {Person.population}')\n",
    "p1 = Person('name1')\n",
    "p2 = Person('name2')\n",
    "print(f'After, population = {Person.population}')\n",
    "\n",
    "print(p1.greet())\n",
    "print(p2.greet())"
   ]
  },
  {
   "cell_type": "markdown",
   "metadata": {},
   "source": [
    "We can do even better than this!\n",
    "\n",
    "Anything defined *inside* of the class definition is actually an attribute on the class, *not* a variable. When we define `__init__` and `greet` inside of the `class` block, we're defining `Person.__init__` (an attribute) and `Person.greet` (another attribute)."
   ]
  },
  {
   "cell_type": "code",
   "execution_count": 92,
   "metadata": {},
   "outputs": [
    {
     "data": {
      "text/plain": [
       "'abcde'"
      ]
     },
     "execution_count": 92,
     "metadata": {},
     "output_type": "execute_result"
    }
   ],
   "source": [
    "s"
   ]
  },
  {
   "cell_type": "code",
   "execution_count": 93,
   "metadata": {},
   "outputs": [
    {
     "data": {
      "text/plain": [
       "'ABCDE'"
      ]
     },
     "execution_count": 93,
     "metadata": {},
     "output_type": "execute_result"
    }
   ],
   "source": [
    "str.upper(s)  # the str.upper method is an attribute on str"
   ]
  },
  {
   "cell_type": "code",
   "execution_count": null,
   "metadata": {},
   "outputs": [],
   "source": [
    "# best of all: define population as an attribute *inside* of the class body!\n",
    "# when we do this, we don't preface it with a . or with the class name -- beacuse the class hasn't yet been defined!\n",
    "\n",
    "class Person:\n",
    "    population = 0   # this is still defining Person.population, just in a more standard way\n",
    "\n",
    "    def __init__(self, name):\n",
    "        self.name = name\n",
    "        Person.population += 1 \n",
    "\n",
    "    def greet(self):\n",
    "        return f'Hello, {self.name}'\n",
    "\n",
    "\n",
    "print(f'Before, population = {Person.population}')\n",
    "p1 = Person('name1')\n",
    "p2 = Person('name2')\n",
    "print(f'After, population = {Person.population}')\n",
    "\n",
    "print(p1.greet())\n",
    "print(p2.greet())"
   ]
  },
  {
   "cell_type": "markdown",
   "metadata": {},
   "source": [
    "# Class attributes\n",
    "\n",
    "Every object in Python has attributes. When we assign to `self`, we are assigning to attributes on our instances. But when we assign to `Person`, we're adding an attribute to the class object.\n",
    "\n",
    "### Where and why do we want class attributes?\n",
    "\n",
    "1. It allows us to have shared information/state. Here, we're sharing `population`. It could be a common resource, such as a bank account, that all instances are sharing.\n",
    "2. It gives us a sort of constant that all instances can use easily. Instead of defining a value in a global variable, or hard-coding it in our code, we can just use a class attribute."
   ]
  },
  {
   "cell_type": "code",
   "execution_count": 94,
   "metadata": {},
   "outputs": [
    {
     "data": {
      "text/plain": [
       "2"
      ]
     },
     "execution_count": 94,
     "metadata": {},
     "output_type": "execute_result"
    }
   ],
   "source": [
    "Person.population"
   ]
  },
  {
   "cell_type": "code",
   "execution_count": 95,
   "metadata": {},
   "outputs": [],
   "source": [
    "Person.population = 0"
   ]
  },
  {
   "cell_type": "code",
   "execution_count": 96,
   "metadata": {},
   "outputs": [
    {
     "data": {
      "text/plain": [
       "0"
      ]
     },
     "execution_count": 96,
     "metadata": {},
     "output_type": "execute_result"
    }
   ],
   "source": [
    "Person.population"
   ]
  },
  {
   "cell_type": "markdown",
   "metadata": {},
   "source": [
    "# Exercise: Limited size bowls\n",
    "\n",
    "So far, we've been able to add any number of scoops to our bowls. But the times have changed! \n",
    "\n",
    "1. Modify the `add_scoops` method on `Bowl` such that the maximum number of scoops you can have in the bowl is 3. No matter how many times you invoke `add_scoops` and how many arguments you give it, you should have a max of 3.\n",
    "2. Any extra scoops are just ignored.\n",
    "3. Don't hard-code that as a 3, but set a class attribute, `MAX_SCOOPS`, which you can then use."
   ]
  },
  {
   "cell_type": "code",
   "execution_count": 100,
   "metadata": {},
   "outputs": [
    {
     "name": "stdout",
     "output_type": "stream",
     "text": [
      "Bowl with:\n",
      "  1: Scoop of chocolate\n",
      "  2: Scoop of vanilla\n",
      "  3: Scoop of coffee\n",
      "\n"
     ]
    }
   ],
   "source": [
    "class Scoop:\n",
    "    def __init__(self, flavor):\n",
    "        self.flavor = flavor\n",
    "    def __repr__(self):\n",
    "        return f'Scoop of {self.flavor}'\n",
    "\n",
    "s1 = Scoop('chocolate')\n",
    "s2 = Scoop('vanilla')\n",
    "s3 = Scoop('coffee')\n",
    "s4 = Scoop('flavor 4')\n",
    "s5 = Scoop('flavor 5')\n",
    "s6 = Scoop('flavor 6')\n",
    "s7 = Scoop('flavor 7')\n",
    "\n",
    "class Bowl:\n",
    "    MAX_SCOOPS = 3\n",
    "    \n",
    "    def __init__(self):\n",
    "        self.scoops = []\n",
    "\n",
    "    def add_scoop(self, new_scoop):\n",
    "        self.scoops.append(new_scoop)\n",
    "\n",
    "    def flavors(self):\n",
    "        return [one_scoop.flavor\n",
    "                for one_scoop in self.scoops]\n",
    "\n",
    "    def add_scoops(self, *new_scoops):  \n",
    "        for one_scoop in new_scoops:\n",
    "            if len(self.scoops) >= Bowl.MAX_SCOOPS:\n",
    "                break\n",
    "            self.add_scoop(one_scoop)   \n",
    "\n",
    "    def __len__(self):\n",
    "        return len(self.scoops)\n",
    "\n",
    "    def __repr__(self):\n",
    "        output = 'Bowl with:\\n'\n",
    "        for index, one_scoop in enumerate(self.scoops, 1):\n",
    "            output += f'  {index}: {one_scoop}\\n'\n",
    "        \n",
    "        return output\n",
    "\n",
    "b = Bowl()\n",
    "b.add_scoops(s1, s2, s3)\n",
    "b.add_scoops(s4, s5)\n",
    "b.add_scoops(s6, s7)\n",
    "\n",
    "print(b)"
   ]
  },
  {
   "cell_type": "code",
   "execution_count": 101,
   "metadata": {},
   "outputs": [
    {
     "name": "stdout",
     "output_type": "stream",
     "text": [
      "Before, population = 0\n",
      "After, population = 2\n",
      "After, p1.population = 2\n",
      "After, p2.population = 2\n",
      "Hello, name1\n",
      "Hello, name2\n"
     ]
    }
   ],
   "source": [
    "# what if I believe that class attributes are kind of \"static,\" like in other languages?\n",
    "# that would mean I can read/write the class attributes either using the class name or using self.\n",
    "# does that work?\n",
    "\n",
    "class Person:\n",
    "    population = 0   \n",
    "\n",
    "    def __init__(self, name):\n",
    "        self.name = name\n",
    "        Person.population += 1 \n",
    "\n",
    "    def greet(self):\n",
    "        return f'Hello, {self.name}'\n",
    "\n",
    "print(f'Before, population = {Person.population}')\n",
    "p1 = Person('name1')\n",
    "p2 = Person('name2')\n",
    "print(f'After, population = {Person.population}')\n",
    "print(f'After, p1.population = {p1.population}')\n",
    "print(f'After, p2.population = {p2.population}')\n",
    "\n",
    "print(p1.greet())\n",
    "print(p2.greet())"
   ]
  },
  {
   "cell_type": "markdown",
   "metadata": {},
   "source": [
    "# The attribute lookup rules in Python\n",
    "\n",
    "It is true that `population` is *ONLY* on the `Person` class, and is *not* on `p1` or `p2`. `population` is a class attribute on `Person`, and that means it is not on another object.\n",
    "\n",
    "Unlike some other languges, there is *NO* way for objects to share attributes. An attribute is on object at a time.\n",
    "\n",
    "However, if we ask an instance for an attribute, and the attribute isn't on the instance, Python doesn't give up. Instead, it goes to the instance's class and checks if the attribute exists there.\n",
    "\n",
    "In other words:\n",
    "\n",
    "- Python asks `p1`: Do you have an attribute named `population`? Answer: No.\n",
    "- Python goes to `p1`'s class, `Person`, and asks: Do you have an attribute named `population`? Answer: Yes. We get the value back.\n",
    "\n",
    "Why does Python do this?\n",
    "\n",
    "For one, this way methods can work. Methods are attributes defined on the class. But we normally invoke them via the instance.\n",
    "\n",
    "For example:\n",
    "\n",
    "- We invoke `p1.greet`\n",
    "- Python asks `p1` if it has an attribute `greet`. The answer: No.\n",
    "- Python asks `p1`'s class, `Person`, if it has an attribute `greet`. The answer: Yes! We get the method back, and invoke it."
   ]
  },
  {
   "cell_type": "code",
   "execution_count": null,
   "metadata": {},
   "outputs": [],
   "source": []
  }
 ],
 "metadata": {
  "kernelspec": {
   "display_name": "Python 3 (ipykernel)",
   "language": "python",
   "name": "python3"
  },
  "language_info": {
   "codemirror_mode": {
    "name": "ipython",
    "version": 3
   },
   "file_extension": ".py",
   "mimetype": "text/x-python",
   "name": "python",
   "nbconvert_exporter": "python",
   "pygments_lexer": "ipython3",
   "version": "3.13.5"
  }
 },
 "nbformat": 4,
 "nbformat_minor": 4
}
