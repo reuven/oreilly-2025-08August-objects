{
 "cells": [
  {
   "cell_type": "markdown",
   "metadata": {},
   "source": [
    "# Agenda\n",
    "\n",
    "1. Intro to objects\n",
    "    - What are objects?\n",
    "    - In Python -- everything is an object -- so what?\n",
    "    - Creating your own data structures (in general)\n",
    "    - Creating your own classes (i.e., types of data)\n",
    "    - What happens when you create a new object?\n",
    "    - Complex objects and composition\n",
    "2. Methods\n",
    "    - Using methods\n",
    "    - Writing methods\n",
    "    - The `self` parameter in methods -- what is it?\n",
    "    - Other parameters and passing arguments to them\n",
    "\n",
    "# Wednesday\n",
    "\n",
    "1. Magic methods (hooking into Python's capabilities by writing specially named methods)\n",
    "2. Class attributes\n",
    "3. Attribute lookup (ICPO rule)\n",
    "4. Inheritance\n",
    "    - The three paradigms of method inheritance\n",
    "    - Attribute inheritance -- what it means, and how it works\n",
    "5. What are the next steps?"
   ]
  },
  {
   "cell_type": "markdown",
   "metadata": {},
   "source": [
    "# What are objects?\n",
    "\n",
    "Software is hard to write. It's even harder to maintain.\n",
    "\n",
    "Back in the 1970s, people also felt overwhelmed by software -- it was too big to maintain easily. They wanted a new way to write code that would make it easier to understand and maintain.\n",
    "\n",
    "Alan Kay was working at Xerox PARC, and he wanted to create a programming language that would make it easier to write and maintain code. His language was called Smalltalk, and it was the first (or almost the first) object-oriented language in the world.\n",
    "\n",
    "The idea was: Divide our code into tiny pieces, each of which contains both data and functionality (nouns and verbs). Just as different cells in a biological system accept different messages and send different messages in response, Kay said that we should have cells, or \"objects,\" in our programs. Every object would know how to send certain messages, and it would react to certain messages. Different kinds of cells, or objects, would behave differently.\n",
    "\n",
    "Kay's idea took off:\n",
    "\n",
    "- Instead of cells, we have objects\n",
    "- Instead of types of cells, we have classes\n",
    "- Instead of talking about sending/receiving messages, we talk about \"calling methods.\"\n",
    "\n",
    "Objects have been around for about 50 years now. Nearly every modern programming language supports objects, and many require us to package up our code using objects.\n",
    "\n",
    "Remember that object-oriented programming is a packaging/management technique for keeping track of your code. It doesn't magically allow you to do things you couldn't do otherwise. If done right, then it allows you to build bigger systems and maintain them more easily."
   ]
  },
  {
   "cell_type": "markdown",
   "metadata": {},
   "source": [
    "# Everything is an object\n",
    "\n",
    "What does this mean? Why should we care?\n",
    "\n",
    "It means several things:\n",
    "\n",
    "- We can apply the same rules to data structures that we create as the rules for the builtin data structures.\n",
    "- If we want to improve/extend the system, there's a standard/easy way for us to do that.\n",
    "\n",
    "Once you learn how Python works, and how Python objects work, the core of the language makes more sense, and you can more easily customize it to do what you want."
   ]
  },
  {
   "cell_type": "markdown",
   "metadata": {},
   "source": [
    "# Jargon/vocabulary\n",
    "\n",
    "One of the biggest obstacles to people getting into object-oriented programming is that it comes with a lot of jargon. \n",
    "\n",
    "- `class` and `type` -- these words in Python are interchangeable, when we talk about the language. These describe categories of values. In Python itself, the special words `class` and `type` have distinct uses. When we talk about a value, we'll say that it is a `X`, where `X` is a class or type:\n",
    "    - `'abcd'` is a string, meaning that it's an *instance* of the `str` type.\n",
    "    - Another way to say this is that `str` is the class of `'abcd'`\n",
    "    - We can also say that `str`, the type, is used to create new strings. It is a factory for new strings.\n",
    "- If I want to create a new value of type `X`, I invoke `X()`, and I get a new value back of type `X`\n",
    "    - I can create a new integer with `int()`\n",
    "    - I can create a new string with `str()`\n",
    "    - I can create a new list with `list()`\n",
    "- `instance` -- this is another word for \"value.\" Every value in Python is an *instance* of a particular class. So `'abcd'` is an *instance* of `str`. And when we create a new object of type `str`, we say that it's an *instance*. Everything in Python is an object, and so everything is an instance of some class. If you want to find out the type of a given value, you can run the `type` function on it.\n",
    "- `object` -- this word is overused *FAR* too much. It means a value, so every instance is an object. But every class is also an object (because everything in Python is an object). We also have an actual class in Python called `object`, which is the most generic class out there. "
   ]
  },
  {
   "cell_type": "code",
   "execution_count": 3,
   "metadata": {},
   "outputs": [
    {
     "data": {
      "text/plain": [
       "'5'"
      ]
     },
     "execution_count": 3,
     "metadata": {},
     "output_type": "execute_result"
    }
   ],
   "source": [
    "# when we invoke str(5), we get back a new string value -- a new instance of str\n",
    "# -- whose value is based on the integer 5. But we haven't changed 5 at all!\n",
    "\n",
    "str(5)   # here, I'm invoking \"str\" on the integer 5"
   ]
  },
  {
   "cell_type": "code",
   "execution_count": 4,
   "metadata": {},
   "outputs": [
    {
     "data": {
      "text/plain": [
       "int"
      ]
     },
     "execution_count": 4,
     "metadata": {},
     "output_type": "execute_result"
    }
   ],
   "source": [
    "# what is the class to which 5 is associated?\n",
    "\n",
    "type(5) "
   ]
  },
  {
   "cell_type": "code",
   "execution_count": 5,
   "metadata": {},
   "outputs": [
    {
     "data": {
      "text/plain": [
       "str"
      ]
     },
     "execution_count": 5,
     "metadata": {},
     "output_type": "execute_result"
    }
   ],
   "source": [
    "# what is the class to which '5' is associated?\n",
    "\n",
    "type('5')  "
   ]
  },
  {
   "cell_type": "markdown",
   "metadata": {},
   "source": [
    "# So what? Why do we care about a value's class/type? \n",
    "\n",
    "Knowing the class of an object tells us what it can do.\n",
    "\n",
    "We can, based on the class, know:\n",
    "\n",
    "- What type of data it stores\n",
    "- What methods we can invoke\n",
    "- What operators we can use\n",
    "- What inputs it can take, and what outputs it can provide\n",
    "\n",
    "If we see data of a certain type, then we know what we can do with that data, as well as any other instance of that type."
   ]
  },
  {
   "cell_type": "markdown",
   "metadata": {},
   "source": [
    "# Do we really need objects?\n",
    "\n",
    "No. They are very helpful, or they *can* be helpful, but there were computers for many years before object-oriented programming. There are still languages in widespread use that don't use objects.\n",
    "\n",
    "How could I replicate some of the object-oriented capabilities without objects?"
   ]
  },
  {
   "cell_type": "code",
   "execution_count": 6,
   "metadata": {},
   "outputs": [],
   "source": [
    "# let's create a data structure that keeps track of a person (it'll be me!)\n",
    "# I'll use a tuple with 3 elements in it -- one for my first name, one for my last name, and one for my shoe size\n",
    "\n",
    "p = ('Reuven', 'Lerner', 46)"
   ]
  },
  {
   "cell_type": "code",
   "execution_count": 8,
   "metadata": {},
   "outputs": [
    {
     "data": {
      "text/plain": [
       "'Reuven'"
      ]
     },
     "execution_count": 8,
     "metadata": {},
     "output_type": "execute_result"
    }
   ],
   "source": [
    "p[0]   # get the first name"
   ]
  },
  {
   "cell_type": "code",
   "execution_count": 9,
   "metadata": {},
   "outputs": [
    {
     "data": {
      "text/plain": [
       "'Lerner'"
      ]
     },
     "execution_count": 9,
     "metadata": {},
     "output_type": "execute_result"
    }
   ],
   "source": [
    "p[1]  # get the last name"
   ]
  },
  {
   "cell_type": "code",
   "execution_count": 10,
   "metadata": {},
   "outputs": [
    {
     "data": {
      "text/plain": [
       "46"
      ]
     },
     "execution_count": 10,
     "metadata": {},
     "output_type": "execute_result"
    }
   ],
   "source": [
    "p[2]  # get the shoe size"
   ]
  },
  {
   "cell_type": "code",
   "execution_count": 11,
   "metadata": {},
   "outputs": [
    {
     "name": "stdout",
     "output_type": "stream",
     "text": [
      "Reuven Lerner\n"
     ]
    }
   ],
   "source": [
    "# what if I want to print both the first and last names?\n",
    "\n",
    "print(f'{p[0]} {p[1]}')"
   ]
  },
  {
   "cell_type": "code",
   "execution_count": 12,
   "metadata": {},
   "outputs": [],
   "source": [
    "# if I'm going to do this a lot, I should probably write a function\n",
    "\n",
    "def fullname(person_tuple):\n",
    "    return f'{person_tuple[0]} {person_tuple[1]}'"
   ]
  },
  {
   "cell_type": "code",
   "execution_count": 13,
   "metadata": {},
   "outputs": [
    {
     "data": {
      "text/plain": [
       "'Reuven Lerner'"
      ]
     },
     "execution_count": 13,
     "metadata": {},
     "output_type": "execute_result"
    }
   ],
   "source": [
    "fullname(p)"
   ]
  },
  {
   "cell_type": "code",
   "execution_count": 14,
   "metadata": {},
   "outputs": [
    {
     "name": "stdout",
     "output_type": "stream",
     "text": [
      "Hello, Reuven Lerner\n"
     ]
    }
   ],
   "source": [
    "print(f'Hello, {fullname(p)}')"
   ]
  },
  {
   "cell_type": "markdown",
   "metadata": {},
   "source": [
    "# This worked, but...\n",
    "\n",
    "1. We lost the advantage of *abstraction*. I want to think about people, not tuples, strings, and integers. I can't get away from it, though.\n",
    "2. There's no guarantee that `fullname` will be invoked with the right kind of tuple.  We could have a bug in our code that invokes `fullname` with another tuple, or another value altogether, and we wouldn't catch it until it's too late.\n",
    "3. It's annoying to think about the first name as index 0, the last name as index 1, and the shoe size as index 2. What if we have 20 fields? Or 30?\n",
    "\n",
    "If we use a class -- if we use objects -- we can enforce much or all of this. Plus, we get to think at a higher level, talking about `Person` objects, rather than tuples."
   ]
  },
  {
   "cell_type": "markdown",
   "metadata": {},
   "source": [
    "# Exercise: Non-object objects\n",
    "\n",
    "1. Define 2 tuples, each containing information about a company with fields for the company's name, URL, and the number of employees. Do this for two different companies.\n",
    "2. Write a function that expects to get that tuple, and returns a string -- if you know HTML, then great! -- a link to the company's URL with the company name.\n",
    "3. What happens if you run `type` on your tuple?"
   ]
  },
  {
   "cell_type": "code",
   "execution_count": 15,
   "metadata": {},
   "outputs": [],
   "source": [
    "python_co = ('Python', 'python.org', 1000)\n",
    "tiny_co = ('Tiny', 'tiny.com', 1)"
   ]
  },
  {
   "cell_type": "code",
   "execution_count": 16,
   "metadata": {},
   "outputs": [],
   "source": [
    "def company_link(company_tuple):\n",
    "    return f'<a href=\"{company_tuple[1]}\">{company_tuple[0]}</a>'"
   ]
  },
  {
   "cell_type": "code",
   "execution_count": 17,
   "metadata": {},
   "outputs": [
    {
     "data": {
      "text/plain": [
       "'<a href=\"python.org\">Python</a>'"
      ]
     },
     "execution_count": 17,
     "metadata": {},
     "output_type": "execute_result"
    }
   ],
   "source": [
    "company_link(python_co)"
   ]
  },
  {
   "cell_type": "code",
   "execution_count": 18,
   "metadata": {},
   "outputs": [
    {
     "data": {
      "text/plain": [
       "'<a href=\"tiny.com\">Tiny</a>'"
      ]
     },
     "execution_count": 18,
     "metadata": {},
     "output_type": "execute_result"
    }
   ],
   "source": [
    "company_link(tiny_co)"
   ]
  },
  {
   "cell_type": "code",
   "execution_count": 19,
   "metadata": {},
   "outputs": [
    {
     "data": {
      "text/plain": [
       "tuple"
      ]
     },
     "execution_count": 19,
     "metadata": {},
     "output_type": "execute_result"
    }
   ],
   "source": [
    "type(python_co)"
   ]
  },
  {
   "cell_type": "code",
   "execution_count": 20,
   "metadata": {},
   "outputs": [
    {
     "data": {
      "text/plain": [
       "tuple"
      ]
     },
     "execution_count": 20,
     "metadata": {},
     "output_type": "execute_result"
    }
   ],
   "source": [
    "type(tiny_co)"
   ]
  },
  {
   "cell_type": "markdown",
   "metadata": {},
   "source": [
    "# The problems\n",
    "\n",
    "- We have two tuples, that from Python's perspective are no different from any other tuples in our system. No enforcement of length/type/values as tuple elements. Nothing that helps us think about it as a company vs. a tuple\n",
    "- We're still using the numeric indexes to retrieve things"
   ]
  },
  {
   "cell_type": "markdown",
   "metadata": {},
   "source": [
    "# What is abstraction?\n",
    "\n",
    "The idea is that you can (should) think about things at a higher level, ignoring the low-level details. This allows you to think at a higher level, to communicate more easily, quickly, and a higher level, and to ignore the details that would trip you up or distract you.\n",
    "\n",
    "In engineering, we're constantly trying to get to higher levels of abstraction. We don't think about the bits in our computer or the CPU. We think in terms of ints, strings, lists, etc.\n",
    "\n",
    "Could I manage the company data as a tuple? Yes, but it'll be annoying."
   ]
  },
  {
   "cell_type": "markdown",
   "metadata": {},
   "source": [
    "# How can we rejigger our data as a class?\n",
    "\n",
    "- We'll need to create a new data structure -- a new class/type, each of whose instances represent a company\n",
    "- We'll then need to define methods (specialized functions that only work on a particular type of value) and attach them to the class\n",
    "\n",
    "This would give us our abstraction layer. It would let us think at a higher level and ignore the nitty gritty of how our values are implemented behind the scenes."
   ]
  },
  {
   "cell_type": "code",
   "execution_count": 28,
   "metadata": {},
   "outputs": [],
   "source": [
    "# here's a simple class for creating a Person object\n",
    "# remember that earlier, I created a person tuple\n",
    "\n",
    "class Person:                            # I'm defining a new type of data, a new class, called Person (yes, we capitalize class names)\n",
    "    def __init__(self, first_name, last_name, shoesize):    # this is where we define a special method, __init__, which takes 3 arguments\n",
    "        self.first_name = first_name     # we take each argument we were passed, and we assign it to an attribute, a value after the .\n",
    "        self.last_name = last_name\n",
    "        self.shoesize = shoesize"
   ]
  },
  {
   "cell_type": "code",
   "execution_count": 22,
   "metadata": {},
   "outputs": [],
   "source": [
    "p = Person('Reuven', 'Lerner', 46)"
   ]
  },
  {
   "cell_type": "code",
   "execution_count": 23,
   "metadata": {},
   "outputs": [
    {
     "data": {
      "text/plain": [
       "'Reuven'"
      ]
     },
     "execution_count": 23,
     "metadata": {},
     "output_type": "execute_result"
    }
   ],
   "source": [
    "# I can now retrieve each of these three values, and I don't need to use numbers for it!\n",
    "\n",
    "p.first_name"
   ]
  },
  {
   "cell_type": "code",
   "execution_count": 24,
   "metadata": {},
   "outputs": [
    {
     "data": {
      "text/plain": [
       "'Lerner'"
      ]
     },
     "execution_count": 24,
     "metadata": {},
     "output_type": "execute_result"
    }
   ],
   "source": [
    "p.last_name"
   ]
  },
  {
   "cell_type": "code",
   "execution_count": 25,
   "metadata": {},
   "outputs": [
    {
     "data": {
      "text/plain": [
       "46"
      ]
     },
     "execution_count": 25,
     "metadata": {},
     "output_type": "execute_result"
    }
   ],
   "source": [
    "p.shoesize"
   ]
  },
  {
   "cell_type": "code",
   "execution_count": 26,
   "metadata": {},
   "outputs": [
    {
     "data": {
      "text/plain": [
       "{'first_name': 'Reuven', 'last_name': 'Lerner', 'shoesize': 46}"
      ]
     },
     "execution_count": 26,
     "metadata": {},
     "output_type": "execute_result"
    }
   ],
   "source": [
    "vars(p)  "
   ]
  },
  {
   "cell_type": "code",
   "execution_count": 27,
   "metadata": {},
   "outputs": [
    {
     "data": {
      "text/plain": [
       "__main__.Person"
      ]
     },
     "execution_count": 27,
     "metadata": {},
     "output_type": "execute_result"
    }
   ],
   "source": [
    "type(p)"
   ]
  },
  {
   "cell_type": "markdown",
   "metadata": {},
   "source": [
    "# We can say:\n",
    "\n",
    "- I've created a new `Person` class, representing information about a person\n",
    "- Each instance of `Person` is a new person object, with their own first/last names and shoe size\n",
    "- If `p` is an instance of `Person`, then its `type` is `Person`\n",
    "- We can retrieve any and all of the attributes on `p`"
   ]
  },
  {
   "cell_type": "markdown",
   "metadata": {},
   "source": [
    "# Next up\n",
    "\n",
    "1. What really happens when we define a class?\n",
    "2. What really happens when we create a new *instance* of that class?\n",
    "3. How can we translate from our non-object Python into our object-oriented Python?"
   ]
  },
  {
   "cell_type": "code",
   "execution_count": 32,
   "metadata": {},
   "outputs": [],
   "source": [
    "# define a new class, Person\n",
    "class Person:\n",
    "    def __init__(self, name):  # self refers to the new instance of Person that was just created, but hasn't yet been returned\n",
    "        self.name = name       # here, we're adding a new \"name\" attribute to our new instance, giving it the value from the \"name\" argument\n",
    "\n",
    "# define a new instance\n",
    "p = Person('Reuven')        "
   ]
  },
  {
   "cell_type": "code",
   "execution_count": 33,
   "metadata": {},
   "outputs": [
    {
     "data": {
      "text/plain": [
       "__main__.Person"
      ]
     },
     "execution_count": 33,
     "metadata": {},
     "output_type": "execute_result"
    }
   ],
   "source": [
    "type(p)  # what kind of value is p?"
   ]
  },
  {
   "cell_type": "markdown",
   "metadata": {},
   "source": [
    "# What is going on here?\n",
    "\n",
    "1. We use the `class` keyword to create a new data structure. This is a new class! We are teaching Python what a `Person` is.\n",
    "2. We then name our class, using CamelCase.\n",
    "3. We have a colon at the end of the line\n",
    "4. After that, we have an indented block. That is the body of the class definition. Most of that body (all of it here) contains *method* definitions. Methods are functions that are tied to a particular class.\n",
    "5. In the class body, we can define a method with `def`, just as we do a regular function. The difference is the context -- because our function is defined in the class body, Python treats it specially, making it into a method.\n",
    "6. The only method that we've defined is `__init__`, pronounced \"dunder init.\" This method is almost never invoked directly by us. Rather, it's invoked behind the scenes by Python just after we've created a new instance of `Person`, but before that instance is returned to the caller.\n",
    "7. The new instance of `Person` is passed to `__init__` as the first argument, and is thus assigned to `self`, the first parameter."
   ]
  },
  {
   "cell_type": "markdown",
   "metadata": {},
   "source": [
    "# What can we now say?\n",
    "\n",
    "- `p` is an instance of `Person`\n",
    "- `Person` is the class of `p`"
   ]
  },
  {
   "cell_type": "markdown",
   "metadata": {},
   "source": [
    "# Attributes\n",
    "\n",
    "In Python, we have two mechanisms for storing values:\n",
    "\n",
    "- Variables\n",
    "- Attributes\n",
    "\n",
    "Variables are relatively easy to understand. We define a variable, and we assign to it.\n",
    "\n",
    "Attributes are a bit harder to understand. You can think of them as a private dict that sits on every value inside of Python. It's not exactly a dict, and we don't use dict syntax to set/retrieve attributes, but it's still name-value pairs.\n",
    "\n",
    "Any time you see\n",
    "\n",
    "    a.b\n",
    "\n",
    "in Python, that means \"the attribute `b` on the object `a`\". Just as variables can refer to data or functions, attributes can refer to data or functions.\n",
    "\n",
    "Other languages use all sorts of fancy terms for storing data on an object -- fields, instance variables, etc. In Python, we can talk about attributes. \n",
    "\n",
    "You can set any attribute on (almost) any value you want in Python.  If I have a value in Python, I can just say `value.whatever = 10`, and it's assigned. I have now added a new attribute.\n",
    "\n",
    "We take advantage of this with objects -- when we create a new instance of `Person`, before it is returned to the caller, we invoke `__init__`. And that's where we add one or more attributes. That's where our object gets its personality, its specific names and values.  The names will (normally) be determined by `__init__` which is part of the class, which means that every instance of that class will have the same attribute names. But the values for those attributes typically come from arguments passed to the class as part of object creation."
   ]
  },
  {
   "cell_type": "markdown",
   "metadata": {},
   "source": [
    "# What happend with our `__init__` and object creation?\n",
    "\n",
    "1. I invoked `Person`, giving it the string `'Reuven'` as an argument.\n",
    "2. Python created a new instance of `Person`\n",
    "3. That instance of `Person`, along wtih `'Reuven'`, was passed to `__init__`, whose `name` parameter got that value assigned to it.\n",
    "4. `__init__` then assigned `name` to `self.name`.\n",
    "    - `self` is the newly created object, the thing we created in step 2.\n",
    "    - `__init__` is run after we create the new object\n",
    "    - `__init__` is in this in-between state!\n",
    "    - The only job that `__init__` has is to assign attributes\n",
    "    - Yes, we could assign attributes to our object after `__init__` runs. But we want to centralize these assignments, so that our objects of a given type are all consistent.\n",
    "\n",
    "You don't *need* to set all of an object's attributes in `__init__`, but you *should*. Because that will make it easier for people to understand what is happening."
   ]
  },
  {
   "cell_type": "markdown",
   "metadata": {},
   "source": [
    "# What is `self`?\n",
    "\n",
    "In every object-oriented programming language, you somehow need a way to refer to \"the current instance.\" In many languages, we have a special word, `this`, to refer to such an object.\n",
    "\n",
    "Python doesn't have a special, magic word to do anything like this. Instead, every single method (function) inside of the class expects the first argument to be the instance. That argument is assigned to the first parameter, which by a **VERY** strong convention is always called `self.`\n",
    "\n",
    "If you don't set `self` to be the first parameter in your method, then whatever the first parameter is will get the instance as its value.\n",
    "\n",
    "Using `self` in our methods, we can retrieve attributes and set them. So far, we've only seen `__init__`, and we're only setting attributes."
   ]
  },
  {
   "cell_type": "markdown",
   "metadata": {},
   "source": [
    "# What is `__init__`?\n",
    "\n",
    "It's *not* the constructor method. If you insist that Python has a constructor method, then you are looking for `__new__`, a different method, where the new object is really created. It is **EXTREMELY** rare to write your own `__new__` method.\n",
    "\n",
    "`__init__` is invoked after `__new__`, but before returning the object, so we have a chance to set attributes."
   ]
  },
  {
   "cell_type": "code",
   "execution_count": 34,
   "metadata": {},
   "outputs": [],
   "source": [
    "class Person:\n",
    "    def __init__(self, first_name, last_name, shoe_size):\n",
    "        # as of right now, self is a Person object, but without any new/special attributes\n",
    "        self.first_name = first_name    # add a first_name attribute, using the value from first_name\n",
    "        self.last_name = last_name      # add a last_name attribute, using the value from last_name\n",
    "        self.shoe_size = shoe_size      # add a shoe_size attribute, using the value from shoe_size\n",
    "\n",
    "p = Person('Reuven', 'Lerner', 46)          "
   ]
  },
  {
   "cell_type": "code",
   "execution_count": 35,
   "metadata": {},
   "outputs": [
    {
     "data": {
      "text/plain": [
       "{'first_name': 'Reuven', 'last_name': 'Lerner', 'shoe_size': 46}"
      ]
     },
     "execution_count": 35,
     "metadata": {},
     "output_type": "execute_result"
    }
   ],
   "source": [
    "vars(p)"
   ]
  },
  {
   "cell_type": "code",
   "execution_count": 36,
   "metadata": {},
   "outputs": [
    {
     "data": {
      "text/plain": [
       "'Reuven'"
      ]
     },
     "execution_count": 36,
     "metadata": {},
     "output_type": "execute_result"
    }
   ],
   "source": [
    "# if I want to retrieve any attribute from our new object, I just retrieve it\n",
    "\n",
    "p.first_name"
   ]
  },
  {
   "cell_type": "code",
   "execution_count": 37,
   "metadata": {},
   "outputs": [
    {
     "data": {
      "text/plain": [
       "'Lerner'"
      ]
     },
     "execution_count": 37,
     "metadata": {},
     "output_type": "execute_result"
    }
   ],
   "source": [
    "p.last_name"
   ]
  },
  {
   "cell_type": "code",
   "execution_count": 38,
   "metadata": {},
   "outputs": [
    {
     "data": {
      "text/plain": [
       "46"
      ]
     },
     "execution_count": 38,
     "metadata": {},
     "output_type": "execute_result"
    }
   ],
   "source": [
    "p.shoe_size"
   ]
  },
  {
   "cell_type": "markdown",
   "metadata": {},
   "source": [
    "# MJ: How is `__init__` different from `__self__`?\n",
    "\n",
    "- `__init__` is a method, meaning functionality\n",
    "- There isn't anything called `__self__`, but there is a parameter `self`, which is the first on any method, including `__init__`.\n",
    "\n",
    "Whereas `__init__` is a function/method that executes something (a verb), `self` is a value, a noun -- the current instance."
   ]
  },
  {
   "cell_type": "code",
   "execution_count": 39,
   "metadata": {},
   "outputs": [],
   "source": [
    "p1 = Person('Reuven', 'Lerner', 46)\n",
    "p2 = Person('someone', 'else', 40)"
   ]
  },
  {
   "cell_type": "code",
   "execution_count": 40,
   "metadata": {},
   "outputs": [
    {
     "data": {
      "text/plain": [
       "{'first_name': 'Reuven', 'last_name': 'Lerner', 'shoe_size': 46}"
      ]
     },
     "execution_count": 40,
     "metadata": {},
     "output_type": "execute_result"
    }
   ],
   "source": [
    "# two instances of Person!\n",
    "vars(p1)"
   ]
  },
  {
   "cell_type": "code",
   "execution_count": 41,
   "metadata": {},
   "outputs": [
    {
     "data": {
      "text/plain": [
       "{'first_name': 'someone', 'last_name': 'else', 'shoe_size': 40}"
      ]
     },
     "execution_count": 41,
     "metadata": {},
     "output_type": "execute_result"
    }
   ],
   "source": [
    "vars(p2)"
   ]
  },
  {
   "cell_type": "code",
   "execution_count": null,
   "metadata": {},
   "outputs": [],
   "source": []
  },
  {
   "cell_type": "markdown",
   "metadata": {},
   "source": [
    "# Exercise: Company class\n",
    "\n",
    "We're going to create a class that implements what we did before with a tuple.\n",
    "\n",
    "1. Implement a class called `Company` that takes the same arguments as before, and has similarly named attributes.\n",
    "2. Each instance will have three attributes -- `name`, `domain`, and `headcount`.\n",
    "3. Create two instances of `Company`\n",
    "4. Explore them a little bit, retrieving values from them."
   ]
  },
  {
   "cell_type": "code",
   "execution_count": 44,
   "metadata": {},
   "outputs": [],
   "source": [
    "class Company:\n",
    "    def __init__(self, name, domain, headcount):\n",
    "        self.name = name     # assign to the name attribute on self (the new instance) the value from the parameter name\n",
    "        self.domain = domain # assign to the domain attribute on self (the new instance) the value from the parameter domain\n",
    "        self.headcount = headcount # assign to the headcount attribute on self (the new instance) the value from the parameter headcount\n",
    "\n",
    "python_co = Company('Python', 'python.org', 1000)\n",
    "tiny_co = Company('Tiny', 'tiny.com', 1)       "
   ]
  },
  {
   "cell_type": "code",
   "execution_count": 45,
   "metadata": {},
   "outputs": [
    {
     "data": {
      "text/plain": [
       "__main__.Company"
      ]
     },
     "execution_count": 45,
     "metadata": {},
     "output_type": "execute_result"
    }
   ],
   "source": [
    "type(python_co)"
   ]
  },
  {
   "cell_type": "code",
   "execution_count": 46,
   "metadata": {},
   "outputs": [
    {
     "data": {
      "text/plain": [
       "__main__.Company"
      ]
     },
     "execution_count": 46,
     "metadata": {},
     "output_type": "execute_result"
    }
   ],
   "source": [
    "type(tiny_co)"
   ]
  },
  {
   "cell_type": "code",
   "execution_count": 47,
   "metadata": {},
   "outputs": [
    {
     "data": {
      "text/plain": [
       "{'name': 'Python', 'domain': 'python.org', 'headcount': 1000}"
      ]
     },
     "execution_count": 47,
     "metadata": {},
     "output_type": "execute_result"
    }
   ],
   "source": [
    "vars(python_co)"
   ]
  },
  {
   "cell_type": "code",
   "execution_count": 48,
   "metadata": {},
   "outputs": [
    {
     "data": {
      "text/plain": [
       "{'name': 'Tiny', 'domain': 'tiny.com', 'headcount': 1}"
      ]
     },
     "execution_count": 48,
     "metadata": {},
     "output_type": "execute_result"
    }
   ],
   "source": [
    "vars(tiny_co)"
   ]
  },
  {
   "cell_type": "markdown",
   "metadata": {},
   "source": [
    "# How to create a new company (in Python)\n",
    "\n",
    "1. We invoke `Company('a', 'b', 1)`\n",
    "2. This results in Python invoking `Company.__new__`, which is built into the system. We get the default `__new__` implementation, which is just fine.\n",
    "3. `__new__`'s job is to create a new instance of `Company`. It does that!\n",
    "4. Before `__new__` returns our new `Company` to the caller, though, it first calls `__init__`. That gives us a chance to customize the attributes on that `Company` instance.\n",
    "5. `__init__` is invoked with the new instance as the first argument, which assigns it to the `self` parameter.\n",
    "6. The arguments that we passed to `Company` before, i.e., `('a', 'b', 1)`, are passed to `__init__` after the instance.\n",
    "7. `__init__` assigns various values to attributes. The attributes are on `self`, the instance, and they stick around.\n",
    "8. `__init__` returns (and no one cares about its return value)\n",
    "9. `__new__` returns the new object, with the added attributes"
   ]
  },
  {
   "cell_type": "markdown",
   "metadata": {},
   "source": [
    "# What are methods?\n",
    "\n",
    "Methods are functions defined in a class body. Their first parameter should expect to get the instance assigned to it. For this reason, the first parameter is always called `self`. Any other arguments passed to the method go after `self`.\n",
    "\n",
    "You can write *any* method you want in your class."
   ]
  },
  {
   "cell_type": "code",
   "execution_count": 49,
   "metadata": {},
   "outputs": [],
   "source": [
    "class Person:\n",
    "    def __init__(self, first_name, last_name, shoe_size):\n",
    "        self.first_name = first_name \n",
    "        self.last_name = last_name   \n",
    "        self.shoe_size = shoe_size   \n",
    "\n",
    "    def fullname(self):\n",
    "        return f'{self.first_name} {self.last_name}'\n",
    "\n",
    "p = Person('Reuven', 'Lerner', 46)          "
   ]
  },
  {
   "cell_type": "code",
   "execution_count": 50,
   "metadata": {},
   "outputs": [
    {
     "data": {
      "text/plain": [
       "'Reuven Lerner'"
      ]
     },
     "execution_count": 50,
     "metadata": {},
     "output_type": "execute_result"
    }
   ],
   "source": [
    "p.fullname()   "
   ]
  },
  {
   "cell_type": "markdown",
   "metadata": {},
   "source": [
    "# What about getters and setters?\n",
    "\n",
    "In many languages, we define special methods called \"getters\" that retrieve attribute values and \"setters\" that assign to attribute values. Where are they here?\n",
    "\n",
    "In Python, we almost never define getters and setters.\n",
    "\n",
    "Why?\n",
    "\n",
    "- Everything is public in Python. There is no way to hide data in a Python class. Everything is absolutely open, and can be read and written by anyone. In languages that protect data, you want to have methods to access things. Here,  you don't need that.\n",
    "- It's just considered more direct, efficient, and easy to do."
   ]
  },
  {
   "cell_type": "markdown",
   "metadata": {},
   "source": [
    "# Exercise: Company description\n",
    "\n",
    "Write a new method for your `Company` class that returns a string describing the company -- its name, its domain, and its headcount.\n",
    "\n",
    "I should be able to say\n",
    "\n",
    "    python_co.description()   # this should return a string"
   ]
  },
  {
   "cell_type": "code",
   "execution_count": 53,
   "metadata": {},
   "outputs": [],
   "source": [
    "class Company:\n",
    "    def __init__(self, name, domain, headcount):\n",
    "        self.name = name     \n",
    "        self.domain = domain \n",
    "        self.headcount = headcount \n",
    "    def description(self):\n",
    "        return f'{self.name}, at https://{self.domain}, with {self.headcount} employees'\n",
    "\n",
    "python_co = Company('Python', 'python.org', 1000)\n",
    "tiny_co = Company('Tiny', 'tiny.com', 1)       "
   ]
  },
  {
   "cell_type": "code",
   "execution_count": 54,
   "metadata": {},
   "outputs": [
    {
     "data": {
      "text/plain": [
       "'Python, at https://python.org, with 1000 employees'"
      ]
     },
     "execution_count": 54,
     "metadata": {},
     "output_type": "execute_result"
    }
   ],
   "source": [
    "python_co.description()"
   ]
  },
  {
   "cell_type": "code",
   "execution_count": 55,
   "metadata": {},
   "outputs": [
    {
     "data": {
      "text/plain": [
       "'Tiny, at https://tiny.com, with 1 employees'"
      ]
     },
     "execution_count": 55,
     "metadata": {},
     "output_type": "execute_result"
    }
   ],
   "source": [
    "tiny_co.description()"
   ]
  },
  {
   "cell_type": "code",
   "execution_count": null,
   "metadata": {},
   "outputs": [],
   "source": [
    "# if you want type hints, you can do this!\n",
    "# Python itself DOES NOT ENFORCE THIS IN ANY WAY SHAPE OR FORM\n",
    "\n",
    "def description(self) -> str:\n",
    "    return f\"{self.name} is a company with {self.headcount} employees. Learn more at {self.URL}.\""
   ]
  },
  {
   "cell_type": "markdown",
   "metadata": {},
   "source": [
    "# Next up\n",
    "\n",
    "1. Setting and retrieving attributes\n",
    "2. More methods\n"
   ]
  },
  {
   "cell_type": "markdown",
   "metadata": {},
   "source": [
    "# Some questions:\n",
    "\n",
    "1. Do we need `__init__`?\n",
    "\n",
    "Yes, if each instance of our new class will have attributes. `__init__` is the appropriate place to define them. There are sometimes classes that don't have attributes, but those tend to be rare.\n",
    "\n",
    "2. Do we need to define all of the attributes in `__init__`?\n",
    "\n",
    "You don't need to, but you want to, so that someone who comes to look at your class and understand/maintain it will know that they're looking at all of the attributes they need to think/worry about. This means you might want to set some attributes to be empty -- empty string, 0, empty list, empty dict, etc. But it's best to define them, even empty, so that we have a record of what attributes are expected.\n",
    "\n",
    "3. Does every parameter need to be assigned to an attribute? Does every attribute need to come from a parameter?\n",
    "\n",
    "No and no! Many parameters will get assigned to attributes. But they can be used for other things -- for example, a filename that is passed as an argument and assigned to a parameter might then be opened, and the open file is then assigned to an attribute.\n",
    "\n",
    "If you have an \"empty\" attribute, then that will often not be connected to a parameter, but will be used in the future.\n",
    "\n"
   ]
  },
  {
   "cell_type": "markdown",
   "metadata": {},
   "source": [
    "# What would getters and setters look like?\n",
    "\n"
   ]
  },
  {
   "cell_type": "code",
   "execution_count": 58,
   "metadata": {},
   "outputs": [
    {
     "name": "stdout",
     "output_type": "stream",
     "text": [
      "Reuven\n",
      "Lerner\n",
      "new_first\n",
      "new_last\n"
     ]
    }
   ],
   "source": [
    "class Person:\n",
    "    def __init__(self, first_name, last_name, shoe_size):\n",
    "        self.first_name = first_name \n",
    "        self.last_name = last_name   \n",
    "        self.shoe_size = shoe_size   \n",
    "\n",
    "    def fullname(self):\n",
    "        return f'{self.first_name} {self.last_name}'\n",
    "\n",
    "    def get_first_name(self):\n",
    "        return self.first_name\n",
    "    def get_last_name(self):\n",
    "        return self.last_name\n",
    "    def get_shoe_size(self):\n",
    "        return self.shoe_size\n",
    "\n",
    "    def set_first_name(self, new_first_name):\n",
    "        self.first_name = new_first_name\n",
    "    def set_last_name(self, new_last_name):\n",
    "        self.last_name = new_last_name\n",
    "    def set_shoe_size(self, new_shoe_size):\n",
    "        self.shoe_size = new_shoe_size\n",
    "\n",
    "p = Person('Reuven', 'Lerner', 46)         \n",
    "print(p.get_first_name())\n",
    "print(p.get_last_name())\n",
    "\n",
    "p.set_first_name('new_first')\n",
    "p.set_last_name('new_last')\n",
    "\n",
    "print(p.get_first_name())\n",
    "print(p.get_last_name())"
   ]
  },
  {
   "cell_type": "code",
   "execution_count": 59,
   "metadata": {},
   "outputs": [
    {
     "name": "stdout",
     "output_type": "stream",
     "text": [
      "Reuven\n",
      "Lerner\n",
      "new_first\n",
      "new_last\n"
     ]
    }
   ],
   "source": [
    "# more idiomatic Python\n",
    "\n",
    "class Person:\n",
    "    def __init__(self, first_name, last_name, shoe_size):\n",
    "        self.first_name = first_name \n",
    "        self.last_name = last_name   \n",
    "        self.shoe_size = shoe_size   \n",
    "\n",
    "    def fullname(self):\n",
    "        return f'{self.first_name} {self.last_name}'\n",
    "\n",
    "p = Person('Reuven', 'Lerner', 46)         \n",
    "print(p.first_name)\n",
    "print(p.last_name)\n",
    "\n",
    "p.first_name = 'new_first'\n",
    "p.last_name = 'new_last'\n",
    "\n",
    "print(p.first_name)\n",
    "print(p.last_name)"
   ]
  },
  {
   "cell_type": "markdown",
   "metadata": {},
   "source": [
    "\"We're all adults here\" -- classic phrase in the Python world"
   ]
  },
  {
   "cell_type": "markdown",
   "metadata": {},
   "source": [
    "# Exercise: Ice cream scoop\n",
    "\n",
    "1. Define a class, `Scoop`. Each instance will represent one scoop of ice cream, with one flavor.\n",
    "2. Each scoop has an attribute, `flavor`, which is a string containing its flavor.\n",
    "3. Define three instances of `Scoop`. Each should have a different flavor. Put those three instances in a Python loop, iterate over them, and print each flavor."
   ]
  },
  {
   "cell_type": "code",
   "execution_count": 61,
   "metadata": {},
   "outputs": [
    {
     "name": "stdout",
     "output_type": "stream",
     "text": [
      "chocolate\n",
      "vanilla\n",
      "coffee\n"
     ]
    }
   ],
   "source": [
    "class Scoop:\n",
    "    def __init__(self, flavor):\n",
    "        self.flavor = flavor\n",
    "\n",
    "s1 = Scoop('chocolate')\n",
    "s2 = Scoop('vanilla')\n",
    "s3 = Scoop('coffee')\n",
    "\n",
    "for one_scoop in [s1, s2, s3]:\n",
    "    print(one_scoop.flavor)"
   ]
  },
  {
   "cell_type": "markdown",
   "metadata": {},
   "source": [
    "# Exercise: Ice cream bowl\n",
    "\n",
    "I want you to define a `Bowl` class.\n",
    "\n",
    "1. When we create a new `Bowl` instance, we won't pass any arguments to it. However, there will be an attribute, `scoops`, on each instance of `Bowl` -- an empty list into which we will (later) add one or more scoops.\n",
    "2. Define a new method, `add_scoop`, to the `Bowl` class, which expects to get a `Scoop` instance, and adds it to the end of the `scoops` list attribute in the instance.\n",
    "3. Create a `Bowl` instance and invoke `add_scoop` three times, once for each scoop.\n",
    "4. You should then have a bowl with three scoops.\n",
    "\n"
   ]
  },
  {
   "cell_type": "code",
   "execution_count": 62,
   "metadata": {},
   "outputs": [
    {
     "ename": "NameError",
     "evalue": "name 'Bowl' is not defined",
     "output_type": "error",
     "traceback": [
      "\u001b[31m---------------------------------------------------------------------------\u001b[39m",
      "\u001b[31mNameError\u001b[39m                                 Traceback (most recent call last)",
      "\u001b[36mCell\u001b[39m\u001b[36m \u001b[39m\u001b[32mIn[62]\u001b[39m\u001b[32m, line 1\u001b[39m\n\u001b[32m----> \u001b[39m\u001b[32m1\u001b[39m b = \u001b[43mBowl\u001b[49m()\n\u001b[32m      2\u001b[39m b.add_scoop(s1)\n\u001b[32m      3\u001b[39m b.add_scoop(s2)\n",
      "\u001b[31mNameError\u001b[39m: name 'Bowl' is not defined"
     ]
    }
   ],
   "source": [
    "b = Bowl()\n",
    "b.add_scoop(s1)\n",
    "b.add_scoop(s2)\n",
    "b.add_scoop(s3)\n",
    "\n",
    "len(b.scoops)  # should be 3"
   ]
  },
  {
   "cell_type": "code",
   "execution_count": 64,
   "metadata": {},
   "outputs": [
    {
     "data": {
      "text/plain": [
       "3"
      ]
     },
     "execution_count": 64,
     "metadata": {},
     "output_type": "execute_result"
    }
   ],
   "source": [
    "class Scoop:\n",
    "    def __init__(self, flavor):\n",
    "        self.flavor = flavor\n",
    "\n",
    "s1 = Scoop('chocolate')\n",
    "s2 = Scoop('vanilla')\n",
    "s3 = Scoop('coffee')\n",
    "\n",
    "class Bowl:\n",
    "    def __init__(self):\n",
    "        self.scoops = []\n",
    "    def add_scoop(self, new_scoop):\n",
    "        self.scoops.append(new_scoop)\n",
    "\n",
    "b = Bowl()\n",
    "b.add_scoop(s1)\n",
    "b.add_scoop(s2)\n",
    "b.add_scoop(s3)\n",
    "\n",
    "len(b.scoops)  # should be 3        "
   ]
  },
  {
   "cell_type": "code",
   "execution_count": null,
   "metadata": {},
   "outputs": [],
   "source": [
    "# TN\n",
    "\n",
    "class Bowl:\n",
    "    def __init__ (self):\n",
    "        self.scoops=[]\n",
    "\n",
    "    def add_scoop(self, scoop):\n",
    "        self.scoops.append(scoop)\n",
    "b1=Bowl()\n",
    "b1.add_scoop(s1)\n",
    "b1.add_scoop(s2)\n",
    "b1.add_scoop(s3)\n",
    "print(len(b1.scoops))"
   ]
  },
  {
   "cell_type": "markdown",
   "metadata": {},
   "source": [
    "# Next up\n",
    "\n",
    "1. More methods to deal with scoops and bowls\n",
    "2. Methods and special parameters"
   ]
  },
  {
   "cell_type": "code",
   "execution_count": 65,
   "metadata": {},
   "outputs": [
    {
     "data": {
      "text/plain": [
       "3"
      ]
     },
     "execution_count": 65,
     "metadata": {},
     "output_type": "execute_result"
    }
   ],
   "source": [
    "class Scoop:\n",
    "    def __init__(self, flavor):\n",
    "        self.flavor = flavor\n",
    "\n",
    "s1 = Scoop('chocolate')\n",
    "s2 = Scoop('vanilla')\n",
    "s3 = Scoop('coffee')\n",
    "\n",
    "class Bowl:\n",
    "    def __init__(self):\n",
    "        self.scoops = []\n",
    "    def add_scoop(self, new_scoop):\n",
    "        self.scoops.append(new_scoop)\n",
    "\n",
    "b = Bowl()\n",
    "b.add_scoop(s1)\n",
    "b.add_scoop(s2)\n",
    "b.add_scoop(s3)\n",
    "\n",
    "len(b.scoops)  # should be 3        "
   ]
  },
  {
   "cell_type": "markdown",
   "metadata": {},
   "source": [
    "# Exercise: Flavors\n",
    "\n",
    "Right now, each instance of `Bowl` has a `scoops` attribute. That attribute contains a list, and the list contains `Scoop` objects. Each `Scoop` has a `flavor` attribute, with a string containing the flavor.\n",
    "\n",
    "Write a method, `flavors`, which returns a list of strings -- the flavors from the scoops stored in the bowl.\n",
    "\n",
    "If I were to write `print(b.flavors())`, I would get something like `['chocolate', 'vanilla', 'coffee']`."
   ]
  },
  {
   "cell_type": "code",
   "execution_count": 68,
   "metadata": {},
   "outputs": [
    {
     "name": "stdout",
     "output_type": "stream",
     "text": [
      "['chocolate', 'vanilla', 'coffee']\n"
     ]
    }
   ],
   "source": [
    "class Scoop:\n",
    "    def __init__(self, flavor):\n",
    "        self.flavor = flavor\n",
    "\n",
    "s1 = Scoop('chocolate')\n",
    "s2 = Scoop('vanilla')\n",
    "s3 = Scoop('coffee')\n",
    "\n",
    "class Bowl:\n",
    "    def __init__(self):\n",
    "        self.scoops = []\n",
    "\n",
    "    def add_scoop(self, new_scoop):\n",
    "        self.scoops.append(new_scoop)\n",
    "\n",
    "    def flavors(self):\n",
    "        # output = []\n",
    "        # for one_scoop in self.scoops:\n",
    "        #     output.append(one_scoop.flavor)\n",
    "        # return output\n",
    "\n",
    "        # list comprehension\n",
    "        return [one_scoop.flavor\n",
    "                for one_scoop in self.scoops]\n",
    "\n",
    "\n",
    "b = Bowl()\n",
    "b.add_scoop(s1)\n",
    "b.add_scoop(s2)\n",
    "b.add_scoop(s3)\n",
    "\n",
    "print(b.flavors())"
   ]
  },
  {
   "cell_type": "markdown",
   "metadata": {},
   "source": [
    "# Exercise: `add_scoops` (yes, plural)\n",
    "\n",
    "If I want to add multiple scoops to my bowl, I currently have to run `add_scoop` multiple times. I'd like to change that, with a new method called `add_scoops` that takes a list of scoops as an argument, and adds each of them to `self.scoops`.\n",
    "\n",
    "I could then say\n",
    "\n",
    "    b.add_scoops([s1, s2, s3])"
   ]
  },
  {
   "cell_type": "code",
   "execution_count": 69,
   "metadata": {},
   "outputs": [
    {
     "name": "stdout",
     "output_type": "stream",
     "text": [
      "['chocolate', 'vanilla', 'coffee']\n"
     ]
    }
   ],
   "source": [
    "class Scoop:\n",
    "    def __init__(self, flavor):\n",
    "        self.flavor = flavor\n",
    "\n",
    "s1 = Scoop('chocolate')\n",
    "s2 = Scoop('vanilla')\n",
    "s3 = Scoop('coffee')\n",
    "\n",
    "class Bowl:\n",
    "    def __init__(self):\n",
    "        self.scoops = []\n",
    "\n",
    "    def add_scoop(self, new_scoop):\n",
    "        self.scoops.append(new_scoop)\n",
    "\n",
    "    def flavors(self):\n",
    "        # output = []\n",
    "        # for one_scoop in self.scoops:\n",
    "        #     output.append(one_scoop.flavor)\n",
    "        # return output\n",
    "\n",
    "        # list comprehension\n",
    "        return [one_scoop.flavor\n",
    "                for one_scoop in self.scoops]\n",
    "\n",
    "    def add_scoops(self, new_scoops):\n",
    "        for one_scoop in new_scoops:\n",
    "            self.add_scoop(one_scoop)   # we can invoke a method on our own!\n",
    "\n",
    "\n",
    "b = Bowl()\n",
    "b.add_scoops([s1, s2, s3])\n",
    "\n",
    "print(b.flavors())"
   ]
  },
  {
   "cell_type": "markdown",
   "metadata": {},
   "source": [
    "# Composition of objects\n",
    "\n",
    "People love to talk about *inheritance* when discussing object-oriented programming. Inheritance is important, and we'll discuss on Wednesday. But composition is even more important and even more widespread.\n",
    "\n",
    "The idea is: One object contains anoth"
   ]
  }
 ],
 "metadata": {
  "kernelspec": {
   "display_name": "Python 3 (ipykernel)",
   "language": "python",
   "name": "python3"
  },
  "language_info": {
   "codemirror_mode": {
    "name": "ipython",
    "version": 3
   },
   "file_extension": ".py",
   "mimetype": "text/x-python",
   "name": "python",
   "nbconvert_exporter": "python",
   "pygments_lexer": "ipython3",
   "version": "3.13.5"
  }
 },
 "nbformat": 4,
 "nbformat_minor": 4
}
