{
 "cells": [
  {
   "cell_type": "markdown",
   "metadata": {},
   "source": [
    "# Agenda\n",
    "\n",
    "1. Intro to objects\n",
    "    - What are objects?\n",
    "    - In Python -- everything is an object -- so what?\n",
    "    - Creating your own data structures (in general)\n",
    "    - Creating your own classes (i.e., types of data)\n",
    "    - What happens when you create a new object?\n",
    "    - Complex objects and composition\n",
    "2. Methods\n",
    "    - Using methods\n",
    "    - Writing methods\n",
    "    - The `self` parameter in methods -- what is it?\n",
    "    - Other parameters and passing arguments to them\n",
    "\n",
    "# Wednesday\n",
    "\n",
    "1. Magic methods (hooking into Python's capabilities by writing specially named methods)\n",
    "2. Class attributes\n",
    "3. Attribute lookup (ICPO rule)\n",
    "4. Inheritance\n",
    "    - The three paradigms of method inheritance\n",
    "    - Attribute inheritance -- what it means, and how it works\n",
    "5. What are the next steps?"
   ]
  },
  {
   "cell_type": "markdown",
   "metadata": {},
   "source": [
    "# What are objects?\n",
    "\n",
    "Software is hard to write. It's even harder to maintain.\n",
    "\n",
    "Back in the 1970s, people also felt overwhelmed by software -- it was too big to maintain easily. They wanted a new way to write code that would make it easier to understand and maintain.\n",
    "\n",
    "Alan Kay was working at Xerox PARC, and he wanted to create a programming language that would make it easier to write and maintain code. His language was called Smalltalk, and it was the first (or almost the first) object-oriented language in the world.\n",
    "\n",
    "The idea was: Divide our code into tiny pieces, each of which contains both data and functionality (nouns and verbs). Just as different cells in a biological system accept different messages and send different messages in response, Kay said that we should have cells, or \"objects,\" in our programs. Every object would know how to send certain messages, and it would react to certain messages. Different kinds of cells, or objects, would behave differently.\n",
    "\n",
    "Kay's idea took off:\n",
    "\n",
    "- Instead of cells, we have objects\n",
    "- Instead of types of cells, we have classes\n",
    "- Instead of talking about sending/receiving messages, we talk about \"calling methods.\"\n",
    "\n"
   ]
  }
 ],
 "metadata": {
  "kernelspec": {
   "display_name": "Python 3 (ipykernel)",
   "language": "python",
   "name": "python3"
  },
  "language_info": {
   "codemirror_mode": {
    "name": "ipython",
    "version": 3
   },
   "file_extension": ".py",
   "mimetype": "text/x-python",
   "name": "python",
   "nbconvert_exporter": "python",
   "pygments_lexer": "ipython3",
   "version": "3.13.5"
  }
 },
 "nbformat": 4,
 "nbformat_minor": 4
}
