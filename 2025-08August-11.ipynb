{
 "cells": [
  {
   "cell_type": "markdown",
   "metadata": {},
   "source": [
    "# Agenda\n",
    "\n",
    "1. Intro to objects\n",
    "    - What are objects?\n",
    "    - In Python -- everything is an object -- so what?\n",
    "    - Creating your own data structures (in general)\n",
    "    - Creating your own classes (i.e., types of data)\n",
    "    - What happens when you create a new object?\n",
    "    - Complex objects and composition\n",
    "2. Methods\n",
    "    - Using methods\n",
    "    - Writing methods\n",
    "    - The `self` parameter in methods -- what is it?\n",
    "    - Other parameters and passing arguments to them\n",
    "\n",
    "# Wednesday\n",
    "\n",
    "1. Magic methods (hooking into Python's capabilities by writing specially named methods)\n",
    "2. Class attributes\n",
    "3. Attribute lookup (ICPO rule)\n",
    "4. Inheritance\n",
    "    - The three paradigms of method inheritance\n",
    "    - Attribute inheritance -- what it means, and how it works\n",
    "5. What are the next steps?"
   ]
  },
  {
   "cell_type": "markdown",
   "metadata": {},
   "source": [
    "# What are objects?\n",
    "\n",
    "Software is hard to write. It's even harder to maintain.\n",
    "\n",
    "Back in the 1970s, people also felt overwhelmed by software -- it was too big to maintain easily. They wanted a new way to write code that would make it easier to understand and maintain.\n",
    "\n"
   ]
  }
 ],
 "metadata": {
  "kernelspec": {
   "display_name": "Python 3 (ipykernel)",
   "language": "python",
   "name": "python3"
  },
  "language_info": {
   "codemirror_mode": {
    "name": "ipython",
    "version": 3
   },
   "file_extension": ".py",
   "mimetype": "text/x-python",
   "name": "python",
   "nbconvert_exporter": "python",
   "pygments_lexer": "ipython3",
   "version": "3.13.5"
  }
 },
 "nbformat": 4,
 "nbformat_minor": 4
}
