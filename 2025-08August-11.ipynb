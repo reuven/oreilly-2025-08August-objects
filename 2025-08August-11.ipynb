{
 "cells": [
  {
   "cell_type": "markdown",
   "metadata": {},
   "source": [
    "# Agenda\n",
    "\n",
    "1. Intro to objects\n",
    "    - What are objects?\n",
    "    - In Python -- everything is an object -- so what?\n",
    "    - Creating your own data structures (in general)\n",
    "    - Creating your own classes (i.e., types of data)\n",
    "    - What happens when you create a new object?\n",
    "    - Complex objects and composition\n",
    "2. Methods\n",
    "    - Using methods\n",
    "    - Writing methods\n",
    "    - The `self` parameter in methods -- what is it?\n",
    "    - Other parameters and passing arguments to them\n",
    "\n",
    "# Wednesday\n",
    "\n",
    "1. Magic methods (hooking into Python's capabilities by writing specially named methods)\n",
    "2. Class attributes\n",
    "3. Attribute lookup (ICPO rule)\n",
    "4. Inheritance\n",
    "    - The three paradigms of method inheritance\n",
    "    - Attribute inheritance -- what it means, and how it works\n",
    "5. What are the next steps?"
   ]
  },
  {
   "cell_type": "markdown",
   "metadata": {},
   "source": [
    "# What are objects?\n",
    "\n",
    "Software is hard to write. It's even harder to maintain.\n",
    "\n",
    "Back in the 1970s, people also felt overwhelmed by software -- it was too big to maintain easily. They wanted a new way to write code that would make it easier to understand and maintain.\n",
    "\n",
    "Alan Kay was working at Xerox PARC, and he wanted to create a programming language that would make it easier to write and maintain code. His language was called Smalltalk, and it was the first (or almost the first) object-oriented language in the world.\n",
    "\n",
    "The idea was: Divide our code into tiny pieces, each of which contains both data and functionality (nouns and verbs). Just as different cells in a biological system accept different messages and send different messages in response, Kay said that we should have cells, or \"objects,\" in our programs. Every object would know how to send certain messages, and it would react to certain messages. Different kinds of cells, or objects, would behave differently.\n",
    "\n",
    "Kay's idea took off:\n",
    "\n",
    "- Instead of cells, we have objects\n",
    "- Instead of types of cells, we have classes\n",
    "- Instead of talking about sending/receiving messages, we talk about \"calling methods.\"\n",
    "\n",
    "Objects have been around for about 50 years now. Nearly every modern programming language supports objects, and many require us to package up our code using objects.\n",
    "\n",
    "Remember that object-oriented programming is a packaging/management technique for keeping track of your code. It doesn't magically allow you to do things you couldn't do otherwise. If done right, then it allows you to build bigger systems and maintain them more easily."
   ]
  },
  {
   "cell_type": "markdown",
   "metadata": {},
   "source": [
    "# Everything is an object\n",
    "\n",
    "What does this mean? Why should we care?\n",
    "\n",
    "It means several things:\n",
    "\n",
    "- We can apply the same rules to data structures that we create as the rules for the builtin data structures.\n",
    "- If we want to improve/extend the system, there's a standard/easy way for us to do that.\n",
    "\n",
    "Once you learn how Python works, and how Python objects work, the core of the language makes more sense, and you can more easily customize it to do what you want."
   ]
  },
  {
   "cell_type": "markdown",
   "metadata": {},
   "source": [
    "# Jargon/vocabulary\n",
    "\n",
    "One of the biggest obstacles to people getting into object-oriented programming is that it comes with a lot of jargon. \n",
    "\n",
    "- `class` and `type` -- these words in Python are interchangeable, when we talk about the language. These describe categories of values. In Python itself, the special words `class` and `type` have distinct uses. When we talk about a value, we'll say that it is a `X`, where `X` is a class or type:\n",
    "    - `'abcd'` is a string, meaning that it's an *instance* of the `str` type.\n",
    "    - Another way to say this is that `str` is the class of `'abcd'`\n",
    "    - We can also say that `str`, the type, is used to create new strings. It is a factory for new strings.\n",
    "- If I want to create a new value of type `X`, I invoke `X()`, and I get a new value back of type `X`\n",
    "    - I can create a new integer with `int()`\n",
    "    - I can create a new string with `str()`\n",
    "    - I can create a new list with `list()`\n",
    "- `instance` -- this is another word for \"value.\" Every value in Python is an *instance* of a particular class. So `'abcd'` is an *instance* of `str`. And when we create a new object of type `str`, we say that it's an *instance*. Everything in Python is an object, and so everything is an instance of some class. If you want to find out the type of a given value, you can run the `type` function on it.\n",
    "- `object` -- this word is overused *FAR* too much. It means a value, so every instance is an object. But every class is also an object (because everything in Python is an object). We also have an actual class in Python called `object`, which is the most generic class out there. "
   ]
  },
  {
   "cell_type": "code",
   "execution_count": 3,
   "metadata": {},
   "outputs": [
    {
     "data": {
      "text/plain": [
       "'5'"
      ]
     },
     "execution_count": 3,
     "metadata": {},
     "output_type": "execute_result"
    }
   ],
   "source": [
    "# when we invoke str(5), we get back a new string value -- a new instance of str\n",
    "# -- whose value is based on the integer 5. But we haven't changed 5 at all!\n",
    "\n",
    "str(5)   # here, I'm invoking \"str\" on the integer 5"
   ]
  },
  {
   "cell_type": "code",
   "execution_count": 4,
   "metadata": {},
   "outputs": [
    {
     "data": {
      "text/plain": [
       "int"
      ]
     },
     "execution_count": 4,
     "metadata": {},
     "output_type": "execute_result"
    }
   ],
   "source": [
    "# what is the class to which 5 is associated?\n",
    "\n",
    "type(5) "
   ]
  },
  {
   "cell_type": "code",
   "execution_count": 5,
   "metadata": {},
   "outputs": [
    {
     "data": {
      "text/plain": [
       "str"
      ]
     },
     "execution_count": 5,
     "metadata": {},
     "output_type": "execute_result"
    }
   ],
   "source": [
    "# what is the class to which '5' is associated?\n",
    "\n",
    "type('5')  "
   ]
  },
  {
   "cell_type": "markdown",
   "metadata": {},
   "source": [
    "# So what? Why do we care about a value's class/type? \n",
    "\n",
    "Knowing the class of an object tells us what it can do.\n",
    "\n"
   ]
  }
 ],
 "metadata": {
  "kernelspec": {
   "display_name": "Python 3 (ipykernel)",
   "language": "python",
   "name": "python3"
  },
  "language_info": {
   "codemirror_mode": {
    "name": "ipython",
    "version": 3
   },
   "file_extension": ".py",
   "mimetype": "text/x-python",
   "name": "python",
   "nbconvert_exporter": "python",
   "pygments_lexer": "ipython3",
   "version": "3.13.5"
  }
 },
 "nbformat": 4,
 "nbformat_minor": 4
}
