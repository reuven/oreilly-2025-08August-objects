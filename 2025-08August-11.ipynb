{
 "cells": [
  {
   "cell_type": "markdown",
   "metadata": {},
   "source": [
    "# Agenda\n",
    "\n",
    "1. Intro to objects\n",
    "    - What are objects?\n",
    "    - In Python -- everything is an object -- so what?\n",
    "    - Creating your own data structures (in general)\n",
    "    - Creating your own classes (i.e., types of data)\n",
    "    - What happens when you create a new object?\n",
    "    - Complex objects and composition\n",
    "2. Methods\n",
    "    - Using methods\n",
    "    - Writing methods\n",
    "    - The `self` parameter in methods -- what is it?\n",
    "    - Other parameters and passing arguments to them\n",
    "\n",
    "# Wednesday\n",
    "\n",
    "1. Magic methods (hooking into Python's capabilities by writing specially named methods)\n",
    "2. Class attributes\n",
    "3. Attribute lookup (ICPO rule)\n",
    "4. Inheritance\n",
    "    - The three paradigms of method inheritance\n",
    "    - Attribute inheritance -- what it means, and how it works\n",
    "5. What are the next steps?"
   ]
  },
  {
   "cell_type": "markdown",
   "metadata": {},
   "source": [
    "# What are objects?\n",
    "\n",
    "Software is hard to write. It's even harder to maintain.\n",
    "\n",
    "Back in the 1970s, people also felt overwhelmed by software -- it was too big to maintain easily. They wanted a new way to write code that would make it easier to understand and maintain.\n",
    "\n",
    "Alan Kay was working at Xerox PARC, and he wanted to create a programming language that would make it easier to write and maintain code. His language was called Smalltalk, and it was the first (or almost the first) object-oriented language in the world.\n",
    "\n",
    "The idea was: Divide our code into tiny pieces, each of which contains both data and functionality (nouns and verbs). Just as different cells in a biological system accept different messages and send different messages in response, Kay said that we should have cells, or \"objects,\" in our programs. Every object would know how to send certain messages, and it would react to certain messages. Different kinds of cells, or objects, would behave differently.\n",
    "\n",
    "Kay's idea took off:\n",
    "\n",
    "- Instead of cells, we have objects\n",
    "- Instead of types of cells, we have classes\n",
    "- Instead of talking about sending/receiving messages, we talk about \"calling methods.\"\n",
    "\n",
    "Objects have been around for about 50 years now. Nearly every modern programming language supports objects, and many require us to package up our code using objects.\n",
    "\n",
    "Remember that object-oriented programming is a packaging/management technique for keeping track of your code. It doesn't magically allow you to do things you couldn't do otherwise. If done right, then it allows you to build bigger systems and maintain them more easily."
   ]
  },
  {
   "cell_type": "markdown",
   "metadata": {},
   "source": [
    "# Everything is an object\n",
    "\n",
    "What does this mean? Why should we care?\n",
    "\n",
    "It means several things:\n",
    "\n",
    "- We can apply the same rules to data structures that we create as the rules for the builtin data structures.\n",
    "- If we want to improve/extend the system, there's a standard/easy way for us to do that.\n",
    "\n",
    "Once you learn how Python works, and how Python objects work, the core of the language makes more sense, and you can more easily customize it to do what you want."
   ]
  },
  {
   "cell_type": "markdown",
   "metadata": {},
   "source": [
    "# Jargon/vocabulary\n",
    "\n",
    "One of the biggest obstacles to people getting into object-oriented programming is that it comes with a lot of jargon. \n",
    "\n",
    "- `class` and `type` -- these words in Python are interchangeable, when we talk about the language. These describe categories of values. In Python itself, the special words `class` and `type` have distinct uses. When we talk about a value, we'll say that it is a `X`, where `X` is a class or type:\n",
    "    - `'abcd'` is a string, meaning that it's an *instance* of the `str` type.\n",
    "    - Another way to say this is that `str` is the class of `'abcd'`\n",
    "    - We can also say that `str`, the type, is used to create new strings. It is a factory for new strings.\n",
    "- If I want to create a new value of type `X`, I invoke `X()`, and I get a new value back of type `X`\n",
    "    - I can create a new integer with `int()`\n",
    "    - I can create a new string with `str()`\n",
    "    - I can create a new list with `list()`\n",
    "- `instance` -- this is another word for \"value.\" Every value in Python is an *instance* of a particular class. So `'abcd'` is an *instance* of `str`. And when we create a new object of type `str`, we say that it's an *instance*. Everything in Python is an object, and so everything is an instance of some class. If you want to find out the type of a given value, you can run the `type` function on it.\n",
    "- `object` -- this word is overused *FAR* too much. It means a value, so every instance is an object. But every class is also an object (because everything in Python is an object). We also have an actual class in Python called `object`, which is the most generic class out there. "
   ]
  },
  {
   "cell_type": "code",
   "execution_count": 3,
   "metadata": {},
   "outputs": [
    {
     "data": {
      "text/plain": [
       "'5'"
      ]
     },
     "execution_count": 3,
     "metadata": {},
     "output_type": "execute_result"
    }
   ],
   "source": [
    "# when we invoke str(5), we get back a new string value -- a new instance of str\n",
    "# -- whose value is based on the integer 5. But we haven't changed 5 at all!\n",
    "\n",
    "str(5)   # here, I'm invoking \"str\" on the integer 5"
   ]
  },
  {
   "cell_type": "code",
   "execution_count": 4,
   "metadata": {},
   "outputs": [
    {
     "data": {
      "text/plain": [
       "int"
      ]
     },
     "execution_count": 4,
     "metadata": {},
     "output_type": "execute_result"
    }
   ],
   "source": [
    "# what is the class to which 5 is associated?\n",
    "\n",
    "type(5) "
   ]
  },
  {
   "cell_type": "code",
   "execution_count": 5,
   "metadata": {},
   "outputs": [
    {
     "data": {
      "text/plain": [
       "str"
      ]
     },
     "execution_count": 5,
     "metadata": {},
     "output_type": "execute_result"
    }
   ],
   "source": [
    "# what is the class to which '5' is associated?\n",
    "\n",
    "type('5')  "
   ]
  },
  {
   "cell_type": "markdown",
   "metadata": {},
   "source": [
    "# So what? Why do we care about a value's class/type? \n",
    "\n",
    "Knowing the class of an object tells us what it can do.\n",
    "\n",
    "We can, based on the class, know:\n",
    "\n",
    "- What type of data it stores\n",
    "- What methods we can invoke\n",
    "- What operators we can use\n",
    "- What inputs it can take, and what outputs it can provide\n",
    "\n",
    "If we see data of a certain type, then we know what we can do with that data, as well as any other instance of that type."
   ]
  },
  {
   "cell_type": "markdown",
   "metadata": {},
   "source": [
    "# Do we really need objects?\n",
    "\n",
    "No. They are very helpful, or they *can* be helpful, but there were computers for many years before object-oriented programming. There are still languages in widespread use that don't use objects.\n",
    "\n",
    "How could I replicate some of the object-oriented capabilities without objects?"
   ]
  },
  {
   "cell_type": "code",
   "execution_count": 6,
   "metadata": {},
   "outputs": [],
   "source": [
    "# let's create a data structure that keeps track of a person (it'll be me!)\n",
    "# I'll use a tuple with 3 elements in it -- one for my first name, one for my last name, and one for my shoe size\n",
    "\n",
    "p = ('Reuven', 'Lerner', 46)"
   ]
  },
  {
   "cell_type": "code",
   "execution_count": 8,
   "metadata": {},
   "outputs": [
    {
     "data": {
      "text/plain": [
       "'Reuven'"
      ]
     },
     "execution_count": 8,
     "metadata": {},
     "output_type": "execute_result"
    }
   ],
   "source": [
    "p[0]   # get the first name"
   ]
  },
  {
   "cell_type": "code",
   "execution_count": 9,
   "metadata": {},
   "outputs": [
    {
     "data": {
      "text/plain": [
       "'Lerner'"
      ]
     },
     "execution_count": 9,
     "metadata": {},
     "output_type": "execute_result"
    }
   ],
   "source": [
    "p[1]  # get the last name"
   ]
  },
  {
   "cell_type": "code",
   "execution_count": 10,
   "metadata": {},
   "outputs": [
    {
     "data": {
      "text/plain": [
       "46"
      ]
     },
     "execution_count": 10,
     "metadata": {},
     "output_type": "execute_result"
    }
   ],
   "source": [
    "p[2]  # get the shoe size"
   ]
  },
  {
   "cell_type": "code",
   "execution_count": 11,
   "metadata": {},
   "outputs": [
    {
     "name": "stdout",
     "output_type": "stream",
     "text": [
      "Reuven Lerner\n"
     ]
    }
   ],
   "source": [
    "# what if I want to print both the first and last names?\n",
    "\n",
    "print(f'{p[0]} {p[1]}')"
   ]
  },
  {
   "cell_type": "code",
   "execution_count": 12,
   "metadata": {},
   "outputs": [],
   "source": [
    "# if I'm going to do this a lot, I should probably write a function\n",
    "\n",
    "def fullname(person_tuple):\n",
    "    return f'{person_tuple[0]} {person_tuple[1]}'"
   ]
  },
  {
   "cell_type": "code",
   "execution_count": 13,
   "metadata": {},
   "outputs": [
    {
     "data": {
      "text/plain": [
       "'Reuven Lerner'"
      ]
     },
     "execution_count": 13,
     "metadata": {},
     "output_type": "execute_result"
    }
   ],
   "source": [
    "fullname(p)"
   ]
  },
  {
   "cell_type": "code",
   "execution_count": 14,
   "metadata": {},
   "outputs": [
    {
     "name": "stdout",
     "output_type": "stream",
     "text": [
      "Hello, Reuven Lerner\n"
     ]
    }
   ],
   "source": [
    "print(f'Hello, {fullname(p)}')"
   ]
  },
  {
   "cell_type": "markdown",
   "metadata": {},
   "source": [
    "# This worked, but...\n",
    "\n",
    "1. We lost the advantage of *abstraction*. I want to think about people, not tuples, strings, and integers. I can't get away from it, though.\n",
    "2. There's no guarantee that `fullname` will be invoked with the right kind of tuple.  We could have a bug in our code that invokes `fullname` with another tuple, or another value altogether, and we wouldn't catch it until it's too late.\n",
    "3. It's annoying to think about the first name as index 0, the last name as index 1, and the shoe size as index 2. What if we have 20 fields? Or 30?\n",
    "\n",
    "If we use a class -- if we use objects -- we can enforce much or all of this. Plus, we get to think at a higher level, talking about `Person` objects, rather than tuples."
   ]
  },
  {
   "cell_type": "markdown",
   "metadata": {},
   "source": [
    "# Exercise: Non-object objects\n",
    "\n",
    "1. Define 2 tuples, each containing information about a company with fields for the company's name, URL, and the number of employees. Do this for two different companies.\n",
    "2. Write a function that expects to get that tuple, and returns a string -- if you know HTML, then great! -- a link to the company's URL with the company name.\n",
    "3. What happens if you run `type` on your tuple?"
   ]
  },
  {
   "cell_type": "code",
   "execution_count": 15,
   "metadata": {},
   "outputs": [],
   "source": [
    "python_co = ('Python', 'python.org', 1000)\n",
    "tiny_co = ('Tiny', 'tiny.com', 1)"
   ]
  },
  {
   "cell_type": "code",
   "execution_count": 16,
   "metadata": {},
   "outputs": [],
   "source": [
    "def company_link(company_tuple):\n",
    "    return f'<a href=\"{company_tuple[1]}\">{company_tuple[0]}</a>'"
   ]
  },
  {
   "cell_type": "code",
   "execution_count": 17,
   "metadata": {},
   "outputs": [
    {
     "data": {
      "text/plain": [
       "'<a href=\"python.org\">Python</a>'"
      ]
     },
     "execution_count": 17,
     "metadata": {},
     "output_type": "execute_result"
    }
   ],
   "source": [
    "company_link(python_co)"
   ]
  },
  {
   "cell_type": "code",
   "execution_count": 18,
   "metadata": {},
   "outputs": [
    {
     "data": {
      "text/plain": [
       "'<a href=\"tiny.com\">Tiny</a>'"
      ]
     },
     "execution_count": 18,
     "metadata": {},
     "output_type": "execute_result"
    }
   ],
   "source": [
    "company_link(tiny_co)"
   ]
  },
  {
   "cell_type": "code",
   "execution_count": 19,
   "metadata": {},
   "outputs": [
    {
     "data": {
      "text/plain": [
       "tuple"
      ]
     },
     "execution_count": 19,
     "metadata": {},
     "output_type": "execute_result"
    }
   ],
   "source": [
    "type(python_co)"
   ]
  },
  {
   "cell_type": "code",
   "execution_count": 20,
   "metadata": {},
   "outputs": [
    {
     "data": {
      "text/plain": [
       "tuple"
      ]
     },
     "execution_count": 20,
     "metadata": {},
     "output_type": "execute_result"
    }
   ],
   "source": [
    "type(tiny_co)"
   ]
  },
  {
   "cell_type": "markdown",
   "metadata": {},
   "source": [
    "# The problems\n",
    "\n",
    "- We have two tuples, that from Python's perspective are no different from any other tuples in our system. No enforcement of length/type/values as tuple elements. Nothing that helps us think about it as a company vs. a tuple\n",
    "- We're still using the numeric indexes to retrieve things"
   ]
  },
  {
   "cell_type": "markdown",
   "metadata": {},
   "source": [
    "# What is abstraction?\n",
    "\n",
    "The idea is that you can (should) think about things at a higher level, ignoring the low-level details. This allows you to think at a higher level, to communicate more easily, quickly, and a higher level, and to ignore the details that would trip you up or distract you.\n",
    "\n",
    "In engineering, we're constantly trying to get to higher levels of abstraction. We don't think about the bits in our computer or the CPU. We think in terms of ints, strings, lists, etc.\n",
    "\n",
    "Could I manage the company data as a tuple? Yes, but it'll be annoying."
   ]
  },
  {
   "cell_type": "markdown",
   "metadata": {},
   "source": [
    "# How can we rejigger our data as a class?\n",
    "\n",
    "- We'll need to create a new data structure -- a new class/type, each of whose instances represent a company\n",
    "- We'll then need to define methods (specialized functions that only work on a particular type of value) and attach them to the class\n",
    "\n",
    "This would give us our abstraction layer. It would let us think at a higher level and ignore the nitty gritty of how our values are implemented behind the scenes."
   ]
  },
  {
   "cell_type": "code",
   "execution_count": 28,
   "metadata": {},
   "outputs": [],
   "source": [
    "# here's a simple class for creating a Person object\n",
    "# remember that earlier, I created a person tuple\n",
    "\n",
    "class Person:                            # I'm defining a new type of data, a new class, called Person (yes, we capitalize class names)\n",
    "    def __init__(self, first_name, last_name, shoesize):    # this is where we define a special method, __init__, which takes 3 arguments\n",
    "        self.first_name = first_name     # we take each argument we were passed, and we assign it to an attribute, a value after the .\n",
    "        self.last_name = last_name\n",
    "        self.shoesize = shoesize"
   ]
  },
  {
   "cell_type": "code",
   "execution_count": 22,
   "metadata": {},
   "outputs": [],
   "source": [
    "p = Person('Reuven', 'Lerner', 46)"
   ]
  },
  {
   "cell_type": "code",
   "execution_count": 23,
   "metadata": {},
   "outputs": [
    {
     "data": {
      "text/plain": [
       "'Reuven'"
      ]
     },
     "execution_count": 23,
     "metadata": {},
     "output_type": "execute_result"
    }
   ],
   "source": [
    "# I can now retrieve each of these three values, and I don't need to use numbers for it!\n",
    "\n",
    "p.first_name"
   ]
  },
  {
   "cell_type": "code",
   "execution_count": 24,
   "metadata": {},
   "outputs": [
    {
     "data": {
      "text/plain": [
       "'Lerner'"
      ]
     },
     "execution_count": 24,
     "metadata": {},
     "output_type": "execute_result"
    }
   ],
   "source": [
    "p.last_name"
   ]
  },
  {
   "cell_type": "code",
   "execution_count": 25,
   "metadata": {},
   "outputs": [
    {
     "data": {
      "text/plain": [
       "46"
      ]
     },
     "execution_count": 25,
     "metadata": {},
     "output_type": "execute_result"
    }
   ],
   "source": [
    "p.shoesize"
   ]
  },
  {
   "cell_type": "code",
   "execution_count": 26,
   "metadata": {},
   "outputs": [
    {
     "data": {
      "text/plain": [
       "{'first_name': 'Reuven', 'last_name': 'Lerner', 'shoesize': 46}"
      ]
     },
     "execution_count": 26,
     "metadata": {},
     "output_type": "execute_result"
    }
   ],
   "source": [
    "vars(p)  "
   ]
  },
  {
   "cell_type": "code",
   "execution_count": 27,
   "metadata": {},
   "outputs": [
    {
     "data": {
      "text/plain": [
       "__main__.Person"
      ]
     },
     "execution_count": 27,
     "metadata": {},
     "output_type": "execute_result"
    }
   ],
   "source": [
    "type(p)"
   ]
  },
  {
   "cell_type": "markdown",
   "metadata": {},
   "source": [
    "# We can say:\n",
    "\n",
    "- I've created a new `Person` class, representing information about a person\n",
    "- Each instance of `Person` is a new person object, with their own first/last names and shoe size\n",
    "- If `p` is an instance of `Person`, then its `type` is `Person`\n",
    "- We can retrieve any and all of the attributes on `p`"
   ]
  },
  {
   "cell_type": "markdown",
   "metadata": {},
   "source": [
    "# Next up\n",
    "\n",
    "1. What really happens when we define a class?\n",
    "2. What really happens when we create a new *instance* of that class?\n",
    "3. How can we translate from our non-object Python into our object-oriented Python?"
   ]
  },
  {
   "cell_type": "code",
   "execution_count": null,
   "metadata": {},
   "outputs": [],
   "source": []
  }
 ],
 "metadata": {
  "kernelspec": {
   "display_name": "Python 3 (ipykernel)",
   "language": "python",
   "name": "python3"
  },
  "language_info": {
   "codemirror_mode": {
    "name": "ipython",
    "version": 3
   },
   "file_extension": ".py",
   "mimetype": "text/x-python",
   "name": "python",
   "nbconvert_exporter": "python",
   "pygments_lexer": "ipython3",
   "version": "3.13.5"
  }
 },
 "nbformat": 4,
 "nbformat_minor": 4
}
